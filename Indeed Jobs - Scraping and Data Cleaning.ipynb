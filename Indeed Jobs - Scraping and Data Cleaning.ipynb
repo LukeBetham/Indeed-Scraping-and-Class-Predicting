{
 "cells": [
  {
   "cell_type": "markdown",
   "metadata": {
    "focus": false,
    "id": "69b9a648-bcc7-490d-9f9b-ea244d156bd6"
   },
   "source": [
    "<img src=\"http://imgur.com/1ZcRyrc.png\" style=\"float: left; margin: 15px; height: 80px\">\n",
    "\n",
    "\n",
    "# Web Scraping for Indeed.com and Predicting Salaries"
   ]
  },
  {
   "cell_type": "markdown",
   "metadata": {},
   "source": [
    "### Business Case Overview\n",
    "\n",
    "You're working as a data scientist for a contracting firm that's rapidly expanding. Now that they have their most valuable employee (you!), they need to leverage data to win more contracts. Your firm offers technology and scientific solutions and wants to be competitive in the hiring market. Your principal wants you to\n",
    "\n",
    "   - determine the industry factors that are most important in predicting the salary amounts for these data.\n",
    "\n",
    "To limit the scope, your principal has suggested that you *focus on data-related job postings*, e.g. data scientist, data analyst, research scientist, business intelligence, and any others you might think of. You may also want to decrease the scope by *limiting your search to a single region.*\n",
    "\n",
    "Hint: Aggregators like [Indeed.com](https://www.indeed.com) regularly pool job postings from a variety of markets and industries.\n",
    "\n",
    "**Goal:** Scrape your own data from a job aggregation tool like Indeed.com in order to collect the data to best answer this question.\n",
    "\n",
    "---\n",
    "\n",
    "### Directions\n",
    "\n",
    "In this project you will be leveraging a variety of skills. The first will be to use the web-scraping and/or API techniques you've learned to collect data on data jobs from Indeed.com or another aggregator. Once you have collected and cleaned the data, you will use it to address the question above."
   ]
  },
  {
   "cell_type": "markdown",
   "metadata": {},
   "source": [
    "### Factors that impact salary\n",
    "\n",
    "To predict salary the most appropriate approach would be a regression model.\n",
    "Here instead we just want to estimate which factors (like location, job title, job level, industry sector) lead to high or low salary and work with a classification model. To do so, split the salary into two groups of high and low salary, for example by choosing the median salary as a threshold (in principle you could choose any single or multiple splitting points).\n",
    "\n",
    "Use all the skills you have learned so far to build a predictive model.\n",
    "Whatever you decide to use, the most important thing is to justify your choices and interpret your results. *Communication of your process is key.* Note that most listings **DO NOT** come with salary information. You'll need to be able to extrapolate or predict the expected salaries for these listings."
   ]
  },
  {
   "cell_type": "markdown",
   "metadata": {
    "focus": false,
    "id": "a948d79c-5527-4c0d-ab23-f5d43ce72056"
   },
   "source": [
    "### Scraping job listings from Indeed.com"
   ]
  },
  {
   "cell_type": "markdown",
   "metadata": {
    "focus": true,
    "id": "7203e0c9-e437-4802-a6ad-7dc464f94436"
   },
   "source": [
    "We will be scraping job listings from Indeed.com using BeautifulSoup. Luckily, Indeed.com is a simple text page where we can easily find relevant entries.\n",
    "\n",
    "First, look at the source of an Indeed.com page: (http://www.indeed.com/jobs?q=data+scientist+%2420%2C000&l=New+York&start=10\").\n",
    "\n",
    "Notice, each job listing is underneath a `div` tag with a class name of `result`. We can use BeautifulSoup to extract those. "
   ]
  },
  {
   "cell_type": "markdown",
   "metadata": {
    "focus": false,
    "id": "9732c901-ae26-4160-8376-42e22dd327df"
   },
   "source": [
    "#### Setup a request (using `requests`) to the URL below. Use BeautifulSoup to parse the page and extract all results (HINT: Look for div tags with class name result)\n",
    "\n",
    "The URL here has many query parameters:\n",
    "\n",
    "- `q` for the job search\n",
    "- This is followed by \"+20,000\" to return results with salaries (or expected salaries >$20,000)\n",
    "- `l` for a location \n",
    "- `start` for what result number to start on"
   ]
  },
  {
   "cell_type": "code",
   "execution_count": 3,
   "metadata": {
    "ExecuteTime": {
     "end_time": "2020-01-20T14:36:21.397415Z",
     "start_time": "2020-01-20T14:36:21.394104Z"
    },
    "focus": false,
    "id": "e915023e-6b0d-4982-af2a-b1e0355f4927"
   },
   "outputs": [],
   "source": [
    "url = \"https://www.indeed.co.uk/jobs?q=data+scientist&l=London%2C+Greater+London&radius=5&start=0\""
   ]
  },
  {
   "cell_type": "code",
   "execution_count": 3,
   "metadata": {
    "ExecuteTime": {
     "end_time": "2020-01-27T15:49:12.895407Z",
     "start_time": "2020-01-27T15:49:10.761560Z"
    },
    "focus": false,
    "id": "2efefc73-064a-482d-b3b5-ddf5508cb4ec"
   },
   "outputs": [],
   "source": [
    "import requests\n",
    "import bs4\n",
    "from bs4 import BeautifulSoup\n",
    "import pandas as pd\n",
    "import re\n",
    "from tqdm import tqdm_notebook\n",
    "import matplotlib.pyplot as plt\n",
    "import seaborn as sns\n",
    "\n",
    "from sklearn.linear_model import LogisticRegression, LogisticRegressionCV\n",
    "from sklearn.model_selection import train_test_split,cross_val_score, StratifiedKFold, GridSearchCV, KFold\n",
    "from sklearn.metrics import classification_report, confusion_matrix, accuracy_score\n",
    "from sklearn.neighbors import KNeighborsClassifier\n",
    "from sklearn.preprocessing import StandardScaler\n",
    "\n",
    "from sklearn.feature_extraction.text import CountVectorizer\n",
    "from sklearn.feature_extraction.text import TfidfVectorizer\n",
    "\n",
    "## Import up sound alert dependencies\n",
    "from IPython.display import Audio, display\n",
    "from playsound import playsound\n",
    "\n",
    "from sklearn.metrics import confusion_matrix\n",
    "from sklearn.metrics import classification_report\n",
    "import scikitplot as skplt\n",
    "from matplotlib.colors import ListedColormap\n",
    "\n",
    "\n",
    "def warn(*args, **kwargs):\n",
    "    pass\n",
    "\n",
    "import warnings\n",
    "warnings.warn = warn\n",
    "\n"
   ]
  },
  {
   "cell_type": "code",
   "execution_count": 4,
   "metadata": {
    "ExecuteTime": {
     "end_time": "2020-01-27T15:49:16.692237Z",
     "start_time": "2020-01-27T15:49:13.738065Z"
    }
   },
   "outputs": [],
   "source": [
    "def alldone():\n",
    "#     display(Audio(url='https://sound.peal.io/ps/audios/000/000/537/original/woo_vu_luvub_dub_dub.wav', autoplay=True))\n",
    "    playsound('/System/Library/Sounds/Purr.aiff')\n",
    "    playsound('/System/Library/Sounds/Purr.aiff')\n",
    "    playsound('/System/Library/Sounds/Purr.aiff')\n",
    "    \n",
    "alldone()\n"
   ]
  },
  {
   "cell_type": "code",
   "execution_count": 57,
   "metadata": {
    "ExecuteTime": {
     "end_time": "2020-01-15T20:06:06.263971Z",
     "start_time": "2020-01-15T20:06:06.261200Z"
    }
   },
   "outputs": [],
   "source": [
    "# r = requests.get(url)"
   ]
  },
  {
   "cell_type": "code",
   "execution_count": 58,
   "metadata": {
    "ExecuteTime": {
     "end_time": "2020-01-15T20:06:06.615595Z",
     "start_time": "2020-01-15T20:06:06.613615Z"
    }
   },
   "outputs": [],
   "source": [
    "# soup = BeautifulSoup(r.text, 'html.parser')"
   ]
  },
  {
   "cell_type": "code",
   "execution_count": 59,
   "metadata": {
    "ExecuteTime": {
     "end_time": "2020-01-15T20:06:06.934580Z",
     "start_time": "2020-01-15T20:06:06.932556Z"
    }
   },
   "outputs": [],
   "source": [
    "# print(soup.prettify())"
   ]
  },
  {
   "cell_type": "code",
   "execution_count": null,
   "metadata": {},
   "outputs": [],
   "source": [
    "# First search (not enough jobs)\n",
    "# \"data scientist\" or \"data engineer\" or \"business intelligence\" or \"data product manager\" or \"data analyst\" or \"data science\" or \"machine learning\" or \"data architect\" or \"data visualisation\"\n",
    "\n",
    "# second search (too many non-connected jobs)\n",
    "# Data + Science or Data +Engineer or Data +Architect or Data+ Analyst or \"business intelligence\" or \"data visualisation\" or \"data product\" or \"data architect\" or \"machine learning\" £20,000\n",
    "\n",
    "# Third search (like 1st search with better search)\n",
    "# \"data scientist\" or \"data engineer\" or \"business intelligence\" or \"data product manager\" or \"data analyst\" or \"data science\" or \"machine learning\" or \"data architect\" or \"data visualisation\"\n"
   ]
  },
  {
   "cell_type": "code",
   "execution_count": null,
   "metadata": {},
   "outputs": [],
   "source": [
    "# https://www.indeed.co.uk/jobs?q=Data+%2B+Science+or+Data+%2BEngineer+or+Data+%2BArchitect+or+Data%2B+Analyst+or+%22business+intelligence%22+or+%22data+visualisation%22+or+%22data+product%22+or+%22data+architect%22+or+%22machine+learning%22+%C2%A320,000\n"
   ]
  },
  {
   "cell_type": "markdown",
   "metadata": {
    "focus": false,
    "id": "bb0b866a-26a7-45e9-8084-5a0f90eb4b3e"
   },
   "source": [
    "Let's look at one result more closely. A single `result` looks like\n",
    "\n",
    "```\n",
    "<div class=\" row result\" data-jk=\"2480d203f7e97210\" data-tn-component=\"organicJob\" id=\"p_2480d203f7e97210\" itemscope=\"\" itemtype=\"http://schema.org/JobPosting\">\n",
    "<h2 class=\"jobtitle\" id=\"jl_2480d203f7e97210\">\n",
    "<a class=\"turnstileLink\" data-tn-element=\"jobTitle\" onmousedown=\"return rclk(this,jobmap[0],1);\" rel=\"nofollow\" target=\"_blank\" title=\"AVP/Quantitative Analyst\">AVP/Quantitative Analyst</a>\n",
    "</h2>\n",
    "<span class=\"company\" itemprop=\"hiringOrganization\" itemtype=\"http://schema.org/Organization\">\n",
    "<span itemprop=\"name\">\n",
    "<a href=\"/cmp/Alliancebernstein?from=SERP&amp;campaignid=serp-linkcompanyname&amp;fromjk=2480d203f7e97210&amp;jcid=b374f2a780e04789\" target=\"_blank\">\n",
    "    AllianceBernstein</a></span>\n",
    "</span>\n",
    "<tr>\n",
    "<td class=\"snip\">\n",
    "<nobr>$117,500 - $127,500 a year</nobr>\n",
    "<div>\n",
    "<span class=\"summary\" itemprop=\"description\">\n",
    "C onduct quantitative and statistical research as well as portfolio management for various investment portfolios. Collaborate with Quantitative Analysts and</span>\n",
    "</div>\n",
    "</div>\n",
    "</td>\n",
    "</tr>\n",
    "</table>\n",
    "</div>\n",
    "```\n",
    "\n",
    "While this has some more verbose elements removed, we can see that there is some structure to the above:\n",
    "- The salary is in a `span` with `class='salaryText'`.\n",
    "- The title of a job is in a link with class set to `jobtitle` and a `data-tn-element='jobTitle'`.  \n",
    "- The location is set in a `span` with `class='location'`. \n",
    "- The company is set in a `span` with `class='company'`. \n",
    "- Decide which other components could be relevant, for example the region or the summary of the job advert."
   ]
  },
  {
   "cell_type": "markdown",
   "metadata": {
    "focus": false,
    "id": "f1eddb90-4ba8-483c-a229-77e93aa53119"
   },
   "source": [
    "### Write 4 functions to extract each item: location, company, job, and salary.\n",
    "\n",
    "Example: \n",
    "```python\n",
    "def extract_location_from_result(result):\n",
    "    return result.find ...\n",
    "```\n",
    "\n",
    "\n",
    "- **Make sure these functions are robust and can handle cases where the data/field may not be available.**\n",
    "    - Remember to check if a field is empty or `None` for attempting to call methods on it.\n",
    "    - Remember to use `try/except` if you anticipate errors.\n",
    "- **Test** the functions on the results above and simple examples."
   ]
  },
  {
   "cell_type": "code",
   "execution_count": null,
   "metadata": {},
   "outputs": [],
   "source": []
  },
  {
   "cell_type": "code",
   "execution_count": 202,
   "metadata": {
    "ExecuteTime": {
     "end_time": "2020-01-20T21:23:54.032815Z",
     "start_time": "2020-01-20T21:23:54.018274Z"
    },
    "code_folding": [],
    "focus": false,
    "id": "2c6752c4-7704-4c94-8bc0-6f13d2d0d570"
   },
   "outputs": [],
   "source": [
    "\n",
    "def indeed_scraper(pages=10,url_set=None,category='All'):\n",
    "    \n",
    "    jobtitle = []\n",
    "    company = []\n",
    "    rating = []\n",
    "    salary = []\n",
    "    description = []\n",
    "    date = []\n",
    "    location = []\n",
    "    \n",
    "    if pages == \"calc\":\n",
    "        r = requests.get(url_set)\n",
    "        soup = BeautifulSoup(r.text, 'html.parser')\n",
    "        pages = soup.find('div', attrs={'id':'searchCountPages'}).text\n",
    "        pages = round(int(re.sub(r\"[ Pageof,jobs]\", \"\" , pages)[2:])/10)\n",
    "        print(category, \"pages run for:\",pages)\n",
    "        \n",
    "    \n",
    "    if url_set == None:\n",
    "        print(\"Need url to run\")\n",
    "        return\n",
    "\n",
    "    for x in tqdm_notebook(range(0, pages)):\n",
    "        url_format = url_set+'&start={}'.format(x*10)\n",
    "        r = requests.get(url_format)\n",
    "        soup = BeautifulSoup(r.text, 'html.parser')\n",
    "        \n",
    "        for job in soup.find_all('div', attrs={'class':re.compile(r'^jobsearch-Serp.*unified.*')}):\n",
    "\n",
    "            try:\n",
    "                jobtitle.append(job.find('a', attrs={'class':'jobtitle turnstileLink'}).text.replace('\\n',''))\n",
    "                \n",
    "            except:\n",
    "                jobtitle.append(np.nan)\n",
    "\n",
    "            try:\n",
    "                company.append(job.find('span', attrs={'class':'company'}).text.replace('\\n',''))\n",
    "            except:\n",
    "                company.append(np.nan)\n",
    "\n",
    "            try:\n",
    "                rating.append(job.find('span', attrs={'class':'ratingsContent'}).text.replace('\\n',''))\n",
    "            except:\n",
    "                rating.append(np.nan)\n",
    "\n",
    "            try:\n",
    "                salary.append(job.find('span', attrs={'class':'salary no-wrap'}).text.replace('\\n',''))\n",
    "            except:\n",
    "                salary.append(np.nan)\n",
    "\n",
    "            try:\n",
    "                description.append(job.find('div', attrs={'class':'summary'}).text.replace('\\n',''))\n",
    "            except:\n",
    "                description.append(np.nan)\n",
    "\n",
    "            try:\n",
    "                date.append(job.find('span', attrs={'class':'date'}).text.replace('\\n',''))\n",
    "            except:\n",
    "                date.append(np.nan)\n",
    "                \n",
    "#             try:\n",
    "#                 location.append(job.find('span', attrs={'class':'location accessible-contrast-color-location'}).text)\n",
    "#             except:\n",
    "#                 location.append(np.nan)\n",
    "\n",
    "    jobz = pd.DataFrame({'job_title': jobtitle,\n",
    "                         'company': company,\n",
    "                        'rating': rating,\n",
    "                         'salary': salary,\n",
    "                        'description': description,\n",
    "                        'date': date,\n",
    "                         #'location':location,\n",
    "                        'category': category})\n",
    "    return jobz\n",
    "\n"
   ]
  },
  {
   "cell_type": "code",
   "execution_count": null,
   "metadata": {},
   "outputs": [],
   "source": []
  },
  {
   "cell_type": "code",
   "execution_count": 24,
   "metadata": {
    "ExecuteTime": {
     "end_time": "2020-01-20T15:28:10.707554Z",
     "start_time": "2020-01-20T15:28:08.428243Z"
    }
   },
   "outputs": [
    {
     "data": {
      "application/vnd.jupyter.widget-view+json": {
       "model_id": "51bb9be171ad4a49a9643839c8c194d8",
       "version_major": 2,
       "version_minor": 0
      },
      "text/plain": [
       "HBox(children=(FloatProgress(value=0.0, max=3.0), HTML(value='')))"
      ]
     },
     "metadata": {},
     "output_type": "display_data"
    },
    {
     "name": "stdout",
     "output_type": "stream",
     "text": [
      "\n"
     ]
    }
   ],
   "source": [
    "edin = indeed_scraper(3,\"https://www.indeed.co.uk/jobs?q=Data+%2B+Science+or+Data+%2Bengineer+or+Data+%2Barchitect+or+Data%2B+Analyst+or+%22business+Intelligence%22+or+%22data+Visualisation%22+or+%22data+Product%22+or+%22data+Architect%22+or+%22machine+Learning%22+%C2%A320%2C000&l=Belfast\")\n",
    "# manc = indeed_scraper('calc',\"https://www.indeed.co.uk/jobs?q=%22data+scientist%22+or+%22data+engineer%22+or+%22business+intelligence%22+or+%22data+product+manager%22+or+%22data+analyst%22+or+%22data+science%22+or+%22machine+learning%22+or+%22data+architect%22+or+%22data+visualisation%22&l=Manchester&radius=5\")\n",
    "# lon = pd.concat([lon,manc])\n"
   ]
  },
  {
   "cell_type": "code",
   "execution_count": 25,
   "metadata": {
    "ExecuteTime": {
     "end_time": "2020-01-20T15:29:06.554797Z",
     "start_time": "2020-01-20T15:29:06.533652Z"
    }
   },
   "outputs": [
    {
     "data": {
      "text/html": [
       "<div>\n",
       "<style scoped>\n",
       "    .dataframe tbody tr th:only-of-type {\n",
       "        vertical-align: middle;\n",
       "    }\n",
       "\n",
       "    .dataframe tbody tr th {\n",
       "        vertical-align: top;\n",
       "    }\n",
       "\n",
       "    .dataframe thead th {\n",
       "        text-align: right;\n",
       "    }\n",
       "</style>\n",
       "<table border=\"1\" class=\"dataframe\">\n",
       "  <thead>\n",
       "    <tr style=\"text-align: right;\">\n",
       "      <th></th>\n",
       "      <th>job_title</th>\n",
       "      <th>company</th>\n",
       "      <th>rating</th>\n",
       "      <th>salary</th>\n",
       "      <th>description</th>\n",
       "      <th>date</th>\n",
       "      <th>category</th>\n",
       "    </tr>\n",
       "  </thead>\n",
       "  <tbody>\n",
       "    <tr>\n",
       "      <th>0</th>\n",
       "      <td>Risk &amp; Compliance Analyst</td>\n",
       "      <td>Funds-Axis Limited</td>\n",
       "      <td>NaN</td>\n",
       "      <td>£21,000 - £26,000 a year</td>\n",
       "      <td>Data upload and exception investigation.Commu...</td>\n",
       "      <td>Just posted</td>\n",
       "      <td>All</td>\n",
       "    </tr>\n",
       "    <tr>\n",
       "      <th>1</th>\n",
       "      <td>Engagement Executive</td>\n",
       "      <td>Firstsource Solutions UK</td>\n",
       "      <td>3.5</td>\n",
       "      <td>NaN</td>\n",
       "      <td>Oversee the site engagement budget and report...</td>\n",
       "      <td>12 days ago</td>\n",
       "      <td>All</td>\n",
       "    </tr>\n",
       "    <tr>\n",
       "      <th>2</th>\n",
       "      <td>Bike Courier</td>\n",
       "      <td>Just Eat</td>\n",
       "      <td>3.3</td>\n",
       "      <td>NaN</td>\n",
       "      <td>A smart phone with a data plan.You can work w...</td>\n",
       "      <td>30+ days ago</td>\n",
       "      <td>All</td>\n",
       "    </tr>\n",
       "    <tr>\n",
       "      <th>3</th>\n",
       "      <td>Data Management Analyst</td>\n",
       "      <td>Funds-Axis Limited</td>\n",
       "      <td>NaN</td>\n",
       "      <td>£20,000 a year</td>\n",
       "      <td>The Data Management Analyst will be a member ...</td>\n",
       "      <td>30+ days ago</td>\n",
       "      <td>All</td>\n",
       "    </tr>\n",
       "    <tr>\n",
       "      <th>4</th>\n",
       "      <td>Business Analyst</td>\n",
       "      <td>Lynn Recruitment</td>\n",
       "      <td>NaN</td>\n",
       "      <td>£25,000 a year</td>\n",
       "      <td>Analysing data from a range of systems, using...</td>\n",
       "      <td>6 days ago</td>\n",
       "      <td>All</td>\n",
       "    </tr>\n",
       "    <tr>\n",
       "      <th>5</th>\n",
       "      <td>Data Processing Analysis Officers - Lisburn x 2</td>\n",
       "      <td>Kennedy Recruitment</td>\n",
       "      <td>NaN</td>\n",
       "      <td>£12.63 an hour</td>\n",
       "      <td>Data Entry: 1 year (Preferred).An understandi...</td>\n",
       "      <td>11 days ago</td>\n",
       "      <td>All</td>\n",
       "    </tr>\n",
       "    <tr>\n",
       "      <th>6</th>\n",
       "      <td>Cyber, Data Science, Sensing, Space Systems &amp; ...</td>\n",
       "      <td>UK Government - Defence Science and Technology...</td>\n",
       "      <td>3.1</td>\n",
       "      <td>£21,500 - £53,400 a year</td>\n",
       "      <td>Applying the latest thinking in data science ...</td>\n",
       "      <td>28 days ago</td>\n",
       "      <td>All</td>\n",
       "    </tr>\n",
       "    <tr>\n",
       "      <th>7</th>\n",
       "      <td>Data Scientist with Machine Learning</td>\n",
       "      <td>PwC</td>\n",
       "      <td>4.0</td>\n",
       "      <td>NaN</td>\n",
       "      <td>Demonstrable experience as a data scientist a...</td>\n",
       "      <td>26 days ago</td>\n",
       "      <td>All</td>\n",
       "    </tr>\n",
       "    <tr>\n",
       "      <th>8</th>\n",
       "      <td>Junior Data Analyst</td>\n",
       "      <td>PwC</td>\n",
       "      <td>4.0</td>\n",
       "      <td>NaN</td>\n",
       "      <td>The data analyst role will fall under the Dat...</td>\n",
       "      <td>30+ days ago</td>\n",
       "      <td>All</td>\n",
       "    </tr>\n",
       "    <tr>\n",
       "      <th>9</th>\n",
       "      <td>Market Data Business Analyst</td>\n",
       "      <td>CITI</td>\n",
       "      <td>3.9</td>\n",
       "      <td>NaN</td>\n",
       "      <td>Provide support to existing Market Data Busin...</td>\n",
       "      <td>30+ days ago</td>\n",
       "      <td>All</td>\n",
       "    </tr>\n",
       "    <tr>\n",
       "      <th>10</th>\n",
       "      <td>Business Analyst</td>\n",
       "      <td>CITI</td>\n",
       "      <td>3.9</td>\n",
       "      <td>NaN</td>\n",
       "      <td>The Business Analyst is responsible for the r...</td>\n",
       "      <td>11 days ago</td>\n",
       "      <td>All</td>\n",
       "    </tr>\n",
       "    <tr>\n",
       "      <th>11</th>\n",
       "      <td>Data Analytics Intern - 2020</td>\n",
       "      <td>Ciena</td>\n",
       "      <td>4.0</td>\n",
       "      <td>NaN</td>\n",
       "      <td>Experience in Data Sciences &amp; Machine Learnin...</td>\n",
       "      <td>28 days ago</td>\n",
       "      <td>All</td>\n",
       "    </tr>\n",
       "    <tr>\n",
       "      <th>12</th>\n",
       "      <td>Junior Data Analyst</td>\n",
       "      <td>Vox Financial Partners</td>\n",
       "      <td>NaN</td>\n",
       "      <td>NaN</td>\n",
       "      <td>We are looking for experienced graduates to j...</td>\n",
       "      <td>5 days ago</td>\n",
       "      <td>All</td>\n",
       "    </tr>\n",
       "    <tr>\n",
       "      <th>13</th>\n",
       "      <td>Reference Data Management Analyst</td>\n",
       "      <td>CITI</td>\n",
       "      <td>3.9</td>\n",
       "      <td>NaN</td>\n",
       "      <td>The Ref Data Mgmt Analyst 1 is a trainee prof...</td>\n",
       "      <td>11 days ago</td>\n",
       "      <td>All</td>\n",
       "    </tr>\n",
       "    <tr>\n",
       "      <th>14</th>\n",
       "      <td>Equities Data Science Senior Analyst</td>\n",
       "      <td>CITI</td>\n",
       "      <td>3.9</td>\n",
       "      <td>NaN</td>\n",
       "      <td>The Data Science Senior Analyst is a seasoned...</td>\n",
       "      <td>10 days ago</td>\n",
       "      <td>All</td>\n",
       "    </tr>\n",
       "    <tr>\n",
       "      <th>15</th>\n",
       "      <td>Data Quality - Senior Business Data Analyst</td>\n",
       "      <td>CITI</td>\n",
       "      <td>3.9</td>\n",
       "      <td>NaN</td>\n",
       "      <td>Proven working experience as a data analyst o...</td>\n",
       "      <td>5 days ago</td>\n",
       "      <td>All</td>\n",
       "    </tr>\n",
       "    <tr>\n",
       "      <th>16</th>\n",
       "      <td>Quality and Systems Manager</td>\n",
       "      <td>Safe Places for Children UK</td>\n",
       "      <td>NaN</td>\n",
       "      <td>£30,000 a year</td>\n",
       "      <td>Staff members have a responsibility to report...</td>\n",
       "      <td>11 days ago</td>\n",
       "      <td>All</td>\n",
       "    </tr>\n",
       "    <tr>\n",
       "      <th>17</th>\n",
       "      <td>Marketing Program Manager</td>\n",
       "      <td>MRP</td>\n",
       "      <td>3.1</td>\n",
       "      <td>£26,000 - £28,000 a year</td>\n",
       "      <td>Bachelor’s degree in marketing, communication...</td>\n",
       "      <td>5 days ago</td>\n",
       "      <td>All</td>\n",
       "    </tr>\n",
       "    <tr>\n",
       "      <th>18</th>\n",
       "      <td>Treatment Room Nurse</td>\n",
       "      <td>Ormeau Health Centre</td>\n",
       "      <td>NaN</td>\n",
       "      <td>NaN</td>\n",
       "      <td>To maintain accurate and comprehensive patien...</td>\n",
       "      <td>27 days ago</td>\n",
       "      <td>All</td>\n",
       "    </tr>\n",
       "    <tr>\n",
       "      <th>19</th>\n",
       "      <td>Data Management Analyst</td>\n",
       "      <td>Funds-Axis Limited</td>\n",
       "      <td>NaN</td>\n",
       "      <td>£20,000 a year</td>\n",
       "      <td>The Data Management Analyst will be a member ...</td>\n",
       "      <td>30+ days ago</td>\n",
       "      <td>All</td>\n",
       "    </tr>\n",
       "    <tr>\n",
       "      <th>20</th>\n",
       "      <td>Risk &amp; Compliance Analyst</td>\n",
       "      <td>Funds-Axis Limited</td>\n",
       "      <td>NaN</td>\n",
       "      <td>£21,000 - £26,000 a year</td>\n",
       "      <td>Data upload and exception investigation.Commu...</td>\n",
       "      <td>Just posted</td>\n",
       "      <td>All</td>\n",
       "    </tr>\n",
       "    <tr>\n",
       "      <th>21</th>\n",
       "      <td>Senior System Architect (Data Systems)</td>\n",
       "      <td>University of Gloucestershire</td>\n",
       "      <td>4.2</td>\n",
       "      <td>£39,152 - £49,553 a year</td>\n",
       "      <td>Data Warehousing – You will be responsible fo...</td>\n",
       "      <td>12 days ago</td>\n",
       "      <td>All</td>\n",
       "    </tr>\n",
       "    <tr>\n",
       "      <th>22</th>\n",
       "      <td>Business Analyst</td>\n",
       "      <td>Lynn Recruitment</td>\n",
       "      <td>NaN</td>\n",
       "      <td>£25,000 a year</td>\n",
       "      <td>Analysing data from a range of systems, using...</td>\n",
       "      <td>6 days ago</td>\n",
       "      <td>All</td>\n",
       "    </tr>\n",
       "    <tr>\n",
       "      <th>23</th>\n",
       "      <td>Business Analyst</td>\n",
       "      <td>Version 1</td>\n",
       "      <td>4.0</td>\n",
       "      <td>NaN</td>\n",
       "      <td>Experience in producing Business Requirements...</td>\n",
       "      <td>2 days ago</td>\n",
       "      <td>All</td>\n",
       "    </tr>\n",
       "    <tr>\n",
       "      <th>24</th>\n",
       "      <td>Data Visualisation and Application Developer</td>\n",
       "      <td>PwC</td>\n",
       "      <td>4.0</td>\n",
       "      <td>NaN</td>\n",
       "      <td>Experience with data visualisation tools such...</td>\n",
       "      <td>16 days ago</td>\n",
       "      <td>All</td>\n",
       "    </tr>\n",
       "    <tr>\n",
       "      <th>25</th>\n",
       "      <td>Equities Data Business Analyst- VP</td>\n",
       "      <td>CITI</td>\n",
       "      <td>3.9</td>\n",
       "      <td>NaN</td>\n",
       "      <td>This role is for an Equities Data Business An...</td>\n",
       "      <td>30+ days ago</td>\n",
       "      <td>All</td>\n",
       "    </tr>\n",
       "    <tr>\n",
       "      <th>26</th>\n",
       "      <td>Graduate Data Scientist</td>\n",
       "      <td>Signifyd</td>\n",
       "      <td>NaN</td>\n",
       "      <td>NaN</td>\n",
       "      <td>You are working towards a BSc /MSc /PhD in Co...</td>\n",
       "      <td>30+ days ago</td>\n",
       "      <td>All</td>\n",
       "    </tr>\n",
       "    <tr>\n",
       "      <th>27</th>\n",
       "      <td>Business Improvement Officer</td>\n",
       "      <td>Police Service of Northern Ireland</td>\n",
       "      <td>4.1</td>\n",
       "      <td>£26,962 - £27,819 a year</td>\n",
       "      <td>The Business Improvement Officer supports the...</td>\n",
       "      <td>30+ days ago</td>\n",
       "      <td>All</td>\n",
       "    </tr>\n",
       "    <tr>\n",
       "      <th>28</th>\n",
       "      <td>Data Analyst</td>\n",
       "      <td>Morgan McKinley</td>\n",
       "      <td>3.8</td>\n",
       "      <td>£15.03 an hour</td>\n",
       "      <td>As a Data Analyst you will be responsible for...</td>\n",
       "      <td>16 days ago</td>\n",
       "      <td>All</td>\n",
       "    </tr>\n",
       "    <tr>\n",
       "      <th>29</th>\n",
       "      <td>Market Data Ordering Analyst</td>\n",
       "      <td>CITI</td>\n",
       "      <td>3.9</td>\n",
       "      <td>NaN</td>\n",
       "      <td>Management of queries from Market Data Stakeh...</td>\n",
       "      <td>30+ days ago</td>\n",
       "      <td>All</td>\n",
       "    </tr>\n",
       "    <tr>\n",
       "      <th>30</th>\n",
       "      <td>SAS Data Analyst</td>\n",
       "      <td>Celerion</td>\n",
       "      <td>3.4</td>\n",
       "      <td>NaN</td>\n",
       "      <td>Assist Senior Data Analysts and Biostatistici...</td>\n",
       "      <td>6 days ago</td>\n",
       "      <td>All</td>\n",
       "    </tr>\n",
       "    <tr>\n",
       "      <th>31</th>\n",
       "      <td>GIS Technician/ Analyst</td>\n",
       "      <td>Fibrus</td>\n",
       "      <td>NaN</td>\n",
       "      <td>NaN</td>\n",
       "      <td>Maintaining and updating the NI premise data ...</td>\n",
       "      <td>4 days ago</td>\n",
       "      <td>All</td>\n",
       "    </tr>\n",
       "    <tr>\n",
       "      <th>32</th>\n",
       "      <td>Data Processing Analysis Officers - Lisburn x 2</td>\n",
       "      <td>Kennedy Recruitment</td>\n",
       "      <td>NaN</td>\n",
       "      <td>£12.63 an hour</td>\n",
       "      <td>Data Entry: 1 year (Preferred).An understandi...</td>\n",
       "      <td>11 days ago</td>\n",
       "      <td>All</td>\n",
       "    </tr>\n",
       "    <tr>\n",
       "      <th>33</th>\n",
       "      <td>Administrative Officer</td>\n",
       "      <td>Kennedy Recruitment</td>\n",
       "      <td>NaN</td>\n",
       "      <td>£10.14 an hour</td>\n",
       "      <td>For this role, Kennedy Recruitment is acting ...</td>\n",
       "      <td>Just posted</td>\n",
       "      <td>All</td>\n",
       "    </tr>\n",
       "    <tr>\n",
       "      <th>34</th>\n",
       "      <td>Catchment Scientist</td>\n",
       "      <td>South East Water</td>\n",
       "      <td>4.0</td>\n",
       "      <td>£27,000 a year</td>\n",
       "      <td>Be a professionally qualified scientist, or a...</td>\n",
       "      <td>6 days ago</td>\n",
       "      <td>All</td>\n",
       "    </tr>\n",
       "    <tr>\n",
       "      <th>35</th>\n",
       "      <td>Business Service Advisors - Collections</td>\n",
       "      <td>Bank of Ireland</td>\n",
       "      <td>3.8</td>\n",
       "      <td>NaN</td>\n",
       "      <td>In addition the successful applicant will be ...</td>\n",
       "      <td>6 days ago</td>\n",
       "      <td>All</td>\n",
       "    </tr>\n",
       "    <tr>\n",
       "      <th>36</th>\n",
       "      <td>Junior Client Executive</td>\n",
       "      <td>First Derivatives Public Limited Company</td>\n",
       "      <td>NaN</td>\n",
       "      <td>NaN</td>\n",
       "      <td>Sourcing new business opportunities via lead ...</td>\n",
       "      <td>30+ days ago</td>\n",
       "      <td>All</td>\n",
       "    </tr>\n",
       "    <tr>\n",
       "      <th>37</th>\n",
       "      <td>Data Management Analyst</td>\n",
       "      <td>Funds-Axis Limited</td>\n",
       "      <td>NaN</td>\n",
       "      <td>£20,000 a year</td>\n",
       "      <td>The Data Management Analyst will be a member ...</td>\n",
       "      <td>30+ days ago</td>\n",
       "      <td>All</td>\n",
       "    </tr>\n",
       "    <tr>\n",
       "      <th>38</th>\n",
       "      <td>Risk &amp; Compliance Analyst</td>\n",
       "      <td>Funds-Axis Limited</td>\n",
       "      <td>NaN</td>\n",
       "      <td>£21,000 - £26,000 a year</td>\n",
       "      <td>Data upload and exception investigation.Commu...</td>\n",
       "      <td>Just posted</td>\n",
       "      <td>All</td>\n",
       "    </tr>\n",
       "    <tr>\n",
       "      <th>39</th>\n",
       "      <td>Business Analyst</td>\n",
       "      <td>Lynn Recruitment</td>\n",
       "      <td>NaN</td>\n",
       "      <td>£25,000 a year</td>\n",
       "      <td>Analysing data from a range of systems, using...</td>\n",
       "      <td>6 days ago</td>\n",
       "      <td>All</td>\n",
       "    </tr>\n",
       "    <tr>\n",
       "      <th>40</th>\n",
       "      <td>Junior Client Executive</td>\n",
       "      <td>First Derivatives Public Limited Company</td>\n",
       "      <td>NaN</td>\n",
       "      <td>NaN</td>\n",
       "      <td>Sourcing new business opportunities via lead ...</td>\n",
       "      <td>30+ days ago</td>\n",
       "      <td>All</td>\n",
       "    </tr>\n",
       "    <tr>\n",
       "      <th>41</th>\n",
       "      <td>Sales Development Representative (SDR)</td>\n",
       "      <td>GoReport</td>\n",
       "      <td>NaN</td>\n",
       "      <td>£19,000 - £21,000 a year</td>\n",
       "      <td>Engaging with our Target Prospects base to sh...</td>\n",
       "      <td>30+ days ago</td>\n",
       "      <td>All</td>\n",
       "    </tr>\n",
       "    <tr>\n",
       "      <th>42</th>\n",
       "      <td>Treatment Room Nurse</td>\n",
       "      <td>Ormeau Health Centre</td>\n",
       "      <td>NaN</td>\n",
       "      <td>NaN</td>\n",
       "      <td>To maintain accurate and comprehensive patien...</td>\n",
       "      <td>27 days ago</td>\n",
       "      <td>All</td>\n",
       "    </tr>\n",
       "    <tr>\n",
       "      <th>43</th>\n",
       "      <td>Energy Business Analyst</td>\n",
       "      <td>Evermore Energy</td>\n",
       "      <td>NaN</td>\n",
       "      <td>NaN</td>\n",
       "      <td>Delivering reports and market data, so the bu...</td>\n",
       "      <td>3 days ago</td>\n",
       "      <td>All</td>\n",
       "    </tr>\n",
       "    <tr>\n",
       "      <th>44</th>\n",
       "      <td>Warehouse Operative</td>\n",
       "      <td>RecruitmentNI</td>\n",
       "      <td>NaN</td>\n",
       "      <td>£21,000 a year</td>\n",
       "      <td>Focus on accurate and timely recording of dat...</td>\n",
       "      <td>1 day ago</td>\n",
       "      <td>All</td>\n",
       "    </tr>\n",
       "    <tr>\n",
       "      <th>45</th>\n",
       "      <td>Graduate Data Scientist</td>\n",
       "      <td>Modis Northern Ireland</td>\n",
       "      <td>NaN</td>\n",
       "      <td>£25,000 - £30,000 a year</td>\n",
       "      <td>Knowledge of Machine learning techniques.MSc ...</td>\n",
       "      <td>30+ days ago</td>\n",
       "      <td>All</td>\n",
       "    </tr>\n",
       "    <tr>\n",
       "      <th>46</th>\n",
       "      <td>Technical Business Analyst</td>\n",
       "      <td>PwC</td>\n",
       "      <td>4.0</td>\n",
       "      <td>NaN</td>\n",
       "      <td>Significant technical understanding of Busine...</td>\n",
       "      <td>30+ days ago</td>\n",
       "      <td>All</td>\n",
       "    </tr>\n",
       "    <tr>\n",
       "      <th>47</th>\n",
       "      <td>IT Business Intmd Analyst</td>\n",
       "      <td>CITI</td>\n",
       "      <td>3.9</td>\n",
       "      <td>NaN</td>\n",
       "      <td>Ongoing opportunity across the wider Citi bus...</td>\n",
       "      <td>30+ days ago</td>\n",
       "      <td>All</td>\n",
       "    </tr>\n",
       "    <tr>\n",
       "      <th>48</th>\n",
       "      <td>Business Analyst</td>\n",
       "      <td>Jobskey Consultancy</td>\n",
       "      <td>NaN</td>\n",
       "      <td>NaN</td>\n",
       "      <td>The Configuration Management Business Analyst...</td>\n",
       "      <td>30+ days ago</td>\n",
       "      <td>All</td>\n",
       "    </tr>\n",
       "    <tr>\n",
       "      <th>49</th>\n",
       "      <td>Science &amp; Technology Graduates required</td>\n",
       "      <td>VANRATH</td>\n",
       "      <td>NaN</td>\n",
       "      <td>£22,000 - £26,000 a year</td>\n",
       "      <td>Over the past few years it has established an...</td>\n",
       "      <td>30+ days ago</td>\n",
       "      <td>All</td>\n",
       "    </tr>\n",
       "    <tr>\n",
       "      <th>50</th>\n",
       "      <td>Business Analyst</td>\n",
       "      <td>Atos</td>\n",
       "      <td>3.6</td>\n",
       "      <td>NaN</td>\n",
       "      <td>Knowledge of Business Processes within the Ut...</td>\n",
       "      <td>30+ days ago</td>\n",
       "      <td>All</td>\n",
       "    </tr>\n",
       "    <tr>\n",
       "      <th>51</th>\n",
       "      <td>GenStat Data Analyst</td>\n",
       "      <td>VANRATH</td>\n",
       "      <td>NaN</td>\n",
       "      <td>£15 - £16 an hour</td>\n",
       "      <td>VANRATH are delighted to be recruiting a temp...</td>\n",
       "      <td>3 days ago</td>\n",
       "      <td>All</td>\n",
       "    </tr>\n",
       "    <tr>\n",
       "      <th>52</th>\n",
       "      <td>RPA Developer – Machine Learning</td>\n",
       "      <td>VANRATH</td>\n",
       "      <td>NaN</td>\n",
       "      <td>£25,000 - £35,000 a year</td>\n",
       "      <td>NET, Automation, c++, DATA SCIENCE, database,...</td>\n",
       "      <td>14 days ago</td>\n",
       "      <td>All</td>\n",
       "    </tr>\n",
       "  </tbody>\n",
       "</table>\n",
       "</div>"
      ],
      "text/plain": [
       "                                            job_title  \\\n",
       "0                           Risk & Compliance Analyst   \n",
       "1                                Engagement Executive   \n",
       "2                                        Bike Courier   \n",
       "3                             Data Management Analyst   \n",
       "4                                    Business Analyst   \n",
       "5     Data Processing Analysis Officers - Lisburn x 2   \n",
       "6   Cyber, Data Science, Sensing, Space Systems & ...   \n",
       "7                Data Scientist with Machine Learning   \n",
       "8                                 Junior Data Analyst   \n",
       "9                        Market Data Business Analyst   \n",
       "10                                   Business Analyst   \n",
       "11                       Data Analytics Intern - 2020   \n",
       "12                                Junior Data Analyst   \n",
       "13                  Reference Data Management Analyst   \n",
       "14               Equities Data Science Senior Analyst   \n",
       "15        Data Quality - Senior Business Data Analyst   \n",
       "16                        Quality and Systems Manager   \n",
       "17                          Marketing Program Manager   \n",
       "18                               Treatment Room Nurse   \n",
       "19                            Data Management Analyst   \n",
       "20                          Risk & Compliance Analyst   \n",
       "21             Senior System Architect (Data Systems)   \n",
       "22                                   Business Analyst   \n",
       "23                                   Business Analyst   \n",
       "24       Data Visualisation and Application Developer   \n",
       "25                 Equities Data Business Analyst- VP   \n",
       "26                            Graduate Data Scientist   \n",
       "27                       Business Improvement Officer   \n",
       "28                                       Data Analyst   \n",
       "29                       Market Data Ordering Analyst   \n",
       "30                                   SAS Data Analyst   \n",
       "31                            GIS Technician/ Analyst   \n",
       "32    Data Processing Analysis Officers - Lisburn x 2   \n",
       "33                             Administrative Officer   \n",
       "34                                Catchment Scientist   \n",
       "35            Business Service Advisors - Collections   \n",
       "36                            Junior Client Executive   \n",
       "37                            Data Management Analyst   \n",
       "38                          Risk & Compliance Analyst   \n",
       "39                                   Business Analyst   \n",
       "40                            Junior Client Executive   \n",
       "41             Sales Development Representative (SDR)   \n",
       "42                               Treatment Room Nurse   \n",
       "43                            Energy Business Analyst   \n",
       "44                                Warehouse Operative   \n",
       "45                            Graduate Data Scientist   \n",
       "46                         Technical Business Analyst   \n",
       "47                          IT Business Intmd Analyst   \n",
       "48                                   Business Analyst   \n",
       "49            Science & Technology Graduates required   \n",
       "50                                   Business Analyst   \n",
       "51                               GenStat Data Analyst   \n",
       "52                   RPA Developer – Machine Learning   \n",
       "\n",
       "                                              company rating  \\\n",
       "0                                  Funds-Axis Limited    NaN   \n",
       "1                            Firstsource Solutions UK    3.5   \n",
       "2                                            Just Eat    3.3   \n",
       "3                                  Funds-Axis Limited    NaN   \n",
       "4                                    Lynn Recruitment    NaN   \n",
       "5                                 Kennedy Recruitment    NaN   \n",
       "6   UK Government - Defence Science and Technology...    3.1   \n",
       "7                                                 PwC    4.0   \n",
       "8                                                 PwC    4.0   \n",
       "9                                                CITI    3.9   \n",
       "10                                               CITI    3.9   \n",
       "11                                              Ciena    4.0   \n",
       "12                             Vox Financial Partners    NaN   \n",
       "13                                               CITI    3.9   \n",
       "14                                               CITI    3.9   \n",
       "15                                               CITI    3.9   \n",
       "16                        Safe Places for Children UK    NaN   \n",
       "17                                                MRP    3.1   \n",
       "18                               Ormeau Health Centre    NaN   \n",
       "19                                 Funds-Axis Limited    NaN   \n",
       "20                                 Funds-Axis Limited    NaN   \n",
       "21                      University of Gloucestershire    4.2   \n",
       "22                                   Lynn Recruitment    NaN   \n",
       "23                                          Version 1    4.0   \n",
       "24                                                PwC    4.0   \n",
       "25                                               CITI    3.9   \n",
       "26                                           Signifyd    NaN   \n",
       "27                 Police Service of Northern Ireland    4.1   \n",
       "28                                    Morgan McKinley    3.8   \n",
       "29                                               CITI    3.9   \n",
       "30                                           Celerion    3.4   \n",
       "31                                             Fibrus    NaN   \n",
       "32                                Kennedy Recruitment    NaN   \n",
       "33                                Kennedy Recruitment    NaN   \n",
       "34                                   South East Water    4.0   \n",
       "35                                    Bank of Ireland    3.8   \n",
       "36           First Derivatives Public Limited Company    NaN   \n",
       "37                                 Funds-Axis Limited    NaN   \n",
       "38                                 Funds-Axis Limited    NaN   \n",
       "39                                   Lynn Recruitment    NaN   \n",
       "40           First Derivatives Public Limited Company    NaN   \n",
       "41                                           GoReport    NaN   \n",
       "42                               Ormeau Health Centre    NaN   \n",
       "43                                    Evermore Energy    NaN   \n",
       "44                                      RecruitmentNI    NaN   \n",
       "45                             Modis Northern Ireland    NaN   \n",
       "46                                                PwC    4.0   \n",
       "47                                               CITI    3.9   \n",
       "48                                Jobskey Consultancy    NaN   \n",
       "49                                            VANRATH    NaN   \n",
       "50                                               Atos    3.6   \n",
       "51                                            VANRATH    NaN   \n",
       "52                                            VANRATH    NaN   \n",
       "\n",
       "                      salary  \\\n",
       "0   £21,000 - £26,000 a year   \n",
       "1                        NaN   \n",
       "2                        NaN   \n",
       "3             £20,000 a year   \n",
       "4             £25,000 a year   \n",
       "5             £12.63 an hour   \n",
       "6   £21,500 - £53,400 a year   \n",
       "7                        NaN   \n",
       "8                        NaN   \n",
       "9                        NaN   \n",
       "10                       NaN   \n",
       "11                       NaN   \n",
       "12                       NaN   \n",
       "13                       NaN   \n",
       "14                       NaN   \n",
       "15                       NaN   \n",
       "16            £30,000 a year   \n",
       "17  £26,000 - £28,000 a year   \n",
       "18                       NaN   \n",
       "19            £20,000 a year   \n",
       "20  £21,000 - £26,000 a year   \n",
       "21  £39,152 - £49,553 a year   \n",
       "22            £25,000 a year   \n",
       "23                       NaN   \n",
       "24                       NaN   \n",
       "25                       NaN   \n",
       "26                       NaN   \n",
       "27  £26,962 - £27,819 a year   \n",
       "28            £15.03 an hour   \n",
       "29                       NaN   \n",
       "30                       NaN   \n",
       "31                       NaN   \n",
       "32            £12.63 an hour   \n",
       "33            £10.14 an hour   \n",
       "34            £27,000 a year   \n",
       "35                       NaN   \n",
       "36                       NaN   \n",
       "37            £20,000 a year   \n",
       "38  £21,000 - £26,000 a year   \n",
       "39            £25,000 a year   \n",
       "40                       NaN   \n",
       "41  £19,000 - £21,000 a year   \n",
       "42                       NaN   \n",
       "43                       NaN   \n",
       "44            £21,000 a year   \n",
       "45  £25,000 - £30,000 a year   \n",
       "46                       NaN   \n",
       "47                       NaN   \n",
       "48                       NaN   \n",
       "49  £22,000 - £26,000 a year   \n",
       "50                       NaN   \n",
       "51         £15 - £16 an hour   \n",
       "52  £25,000 - £35,000 a year   \n",
       "\n",
       "                                          description          date category  \n",
       "0    Data upload and exception investigation.Commu...   Just posted      All  \n",
       "1    Oversee the site engagement budget and report...   12 days ago      All  \n",
       "2    A smart phone with a data plan.You can work w...  30+ days ago      All  \n",
       "3    The Data Management Analyst will be a member ...  30+ days ago      All  \n",
       "4    Analysing data from a range of systems, using...    6 days ago      All  \n",
       "5    Data Entry: 1 year (Preferred).An understandi...   11 days ago      All  \n",
       "6    Applying the latest thinking in data science ...   28 days ago      All  \n",
       "7    Demonstrable experience as a data scientist a...   26 days ago      All  \n",
       "8    The data analyst role will fall under the Dat...  30+ days ago      All  \n",
       "9    Provide support to existing Market Data Busin...  30+ days ago      All  \n",
       "10   The Business Analyst is responsible for the r...   11 days ago      All  \n",
       "11   Experience in Data Sciences & Machine Learnin...   28 days ago      All  \n",
       "12   We are looking for experienced graduates to j...    5 days ago      All  \n",
       "13   The Ref Data Mgmt Analyst 1 is a trainee prof...   11 days ago      All  \n",
       "14   The Data Science Senior Analyst is a seasoned...   10 days ago      All  \n",
       "15   Proven working experience as a data analyst o...    5 days ago      All  \n",
       "16   Staff members have a responsibility to report...   11 days ago      All  \n",
       "17   Bachelor’s degree in marketing, communication...    5 days ago      All  \n",
       "18   To maintain accurate and comprehensive patien...   27 days ago      All  \n",
       "19   The Data Management Analyst will be a member ...  30+ days ago      All  \n",
       "20   Data upload and exception investigation.Commu...   Just posted      All  \n",
       "21   Data Warehousing – You will be responsible fo...   12 days ago      All  \n",
       "22   Analysing data from a range of systems, using...    6 days ago      All  \n",
       "23   Experience in producing Business Requirements...    2 days ago      All  \n",
       "24   Experience with data visualisation tools such...   16 days ago      All  \n",
       "25   This role is for an Equities Data Business An...  30+ days ago      All  \n",
       "26   You are working towards a BSc /MSc /PhD in Co...  30+ days ago      All  \n",
       "27   The Business Improvement Officer supports the...  30+ days ago      All  \n",
       "28   As a Data Analyst you will be responsible for...   16 days ago      All  \n",
       "29   Management of queries from Market Data Stakeh...  30+ days ago      All  \n",
       "30   Assist Senior Data Analysts and Biostatistici...    6 days ago      All  \n",
       "31   Maintaining and updating the NI premise data ...    4 days ago      All  \n",
       "32   Data Entry: 1 year (Preferred).An understandi...   11 days ago      All  \n",
       "33   For this role, Kennedy Recruitment is acting ...   Just posted      All  \n",
       "34   Be a professionally qualified scientist, or a...    6 days ago      All  \n",
       "35   In addition the successful applicant will be ...    6 days ago      All  \n",
       "36   Sourcing new business opportunities via lead ...  30+ days ago      All  \n",
       "37   The Data Management Analyst will be a member ...  30+ days ago      All  \n",
       "38   Data upload and exception investigation.Commu...   Just posted      All  \n",
       "39   Analysing data from a range of systems, using...    6 days ago      All  \n",
       "40   Sourcing new business opportunities via lead ...  30+ days ago      All  \n",
       "41   Engaging with our Target Prospects base to sh...  30+ days ago      All  \n",
       "42   To maintain accurate and comprehensive patien...   27 days ago      All  \n",
       "43   Delivering reports and market data, so the bu...    3 days ago      All  \n",
       "44   Focus on accurate and timely recording of dat...     1 day ago      All  \n",
       "45   Knowledge of Machine learning techniques.MSc ...  30+ days ago      All  \n",
       "46   Significant technical understanding of Busine...  30+ days ago      All  \n",
       "47   Ongoing opportunity across the wider Citi bus...  30+ days ago      All  \n",
       "48   The Configuration Management Business Analyst...  30+ days ago      All  \n",
       "49   Over the past few years it has established an...  30+ days ago      All  \n",
       "50   Knowledge of Business Processes within the Ut...  30+ days ago      All  \n",
       "51   VANRATH are delighted to be recruiting a temp...    3 days ago      All  \n",
       "52   NET, Automation, c++, DATA SCIENCE, database,...   14 days ago      All  "
      ]
     },
     "execution_count": 25,
     "metadata": {},
     "output_type": "execute_result"
    }
   ],
   "source": [
    "edin\n"
   ]
  },
  {
   "cell_type": "code",
   "execution_count": 6,
   "metadata": {
    "ExecuteTime": {
     "end_time": "2020-01-18T16:18:03.524304Z",
     "start_time": "2020-01-18T16:18:03.521359Z"
    }
   },
   "outputs": [],
   "source": [
    "# manc.head(30)"
   ]
  },
  {
   "cell_type": "markdown",
   "metadata": {
    "focus": false,
    "id": "34070e89-9521-4b45-90c8-57a6599aac68"
   },
   "source": [
    "Now, to scale up our scraping, we need to accumulate more results. We can do this by examining the URL above.\n",
    "\n",
    "- \"http://www.indeed.com/jobs?q=data+scientist+%2420%2C000&l=New+York&start=10\"\n",
    "\n",
    "There are two query parameters here we can alter to collect more results, the `l=New+York` and the `start=10`. The first controls the location of the results (so we can try a different city). The second controls where in the results to start and gives 10 results (thus, we can keep incrementing by 10 to go further in the list)."
   ]
  },
  {
   "cell_type": "markdown",
   "metadata": {
    "focus": false,
    "id": "e8beed7c-3e42-40c0-810f-5f67f8f885a0"
   },
   "source": [
    "### Complete the following code to collect results from multiple cities and starting points. \n",
    "- Enter your city below to add it to the search.\n",
    "- Remember to convert your salary to U.S. Dollars to match the other cities if the currency is different."
   ]
  },
  {
   "cell_type": "code",
   "execution_count": 26,
   "metadata": {
    "ExecuteTime": {
     "end_time": "2020-01-20T15:40:19.205170Z",
     "start_time": "2020-01-20T15:29:13.909024Z"
    },
    "focus": false,
    "id": "04b0f9af-540e-402f-8292-81748707c676"
   },
   "outputs": [
    {
     "name": "stdout",
     "output_type": "stream",
     "text": [
      "London pages run for: 630\n"
     ]
    },
    {
     "data": {
      "application/vnd.jupyter.widget-view+json": {
       "model_id": "240c3184fd0c4c78a113b91fd192c8b7",
       "version_major": 2,
       "version_minor": 0
      },
      "text/plain": [
       "HBox(children=(FloatProgress(value=0.0, max=630.0), HTML(value='')))"
      ]
     },
     "metadata": {},
     "output_type": "display_data"
    },
    {
     "name": "stdout",
     "output_type": "stream",
     "text": [
      "\n",
      "Birmingham pages run for: 17\n"
     ]
    },
    {
     "data": {
      "application/vnd.jupyter.widget-view+json": {
       "model_id": "7379a7bbe942456f9dadd77371125548",
       "version_major": 2,
       "version_minor": 0
      },
      "text/plain": [
       "HBox(children=(FloatProgress(value=0.0, max=17.0), HTML(value='')))"
      ]
     },
     "metadata": {},
     "output_type": "display_data"
    },
    {
     "name": "stdout",
     "output_type": "stream",
     "text": [
      "\n",
      "Manchester pages run for: 42\n"
     ]
    },
    {
     "data": {
      "application/vnd.jupyter.widget-view+json": {
       "model_id": "2111e610917b424da8da0d7b29a62823",
       "version_major": 2,
       "version_minor": 0
      },
      "text/plain": [
       "HBox(children=(FloatProgress(value=0.0, max=42.0), HTML(value='')))"
      ]
     },
     "metadata": {},
     "output_type": "display_data"
    },
    {
     "name": "stdout",
     "output_type": "stream",
     "text": [
      "\n",
      "Leeds pages run for: 18\n"
     ]
    },
    {
     "data": {
      "application/vnd.jupyter.widget-view+json": {
       "model_id": "c62667354af6405fb628375e344c30a6",
       "version_major": 2,
       "version_minor": 0
      },
      "text/plain": [
       "HBox(children=(FloatProgress(value=0.0, max=18.0), HTML(value='')))"
      ]
     },
     "metadata": {},
     "output_type": "display_data"
    },
    {
     "name": "stdout",
     "output_type": "stream",
     "text": [
      "\n",
      "Liverpool pages run for: 7\n"
     ]
    },
    {
     "data": {
      "application/vnd.jupyter.widget-view+json": {
       "model_id": "876b03b5d8b2493e9f7427cfd1a8d9e5",
       "version_major": 2,
       "version_minor": 0
      },
      "text/plain": [
       "HBox(children=(FloatProgress(value=0.0, max=7.0), HTML(value='')))"
      ]
     },
     "metadata": {},
     "output_type": "display_data"
    },
    {
     "name": "stdout",
     "output_type": "stream",
     "text": [
      "\n",
      "Cardiff pages run for: 6\n"
     ]
    },
    {
     "data": {
      "application/vnd.jupyter.widget-view+json": {
       "model_id": "39ce61e56075403991e61d7c1ebd13ab",
       "version_major": 2,
       "version_minor": 0
      },
      "text/plain": [
       "HBox(children=(FloatProgress(value=0.0, max=6.0), HTML(value='')))"
      ]
     },
     "metadata": {},
     "output_type": "display_data"
    },
    {
     "name": "stdout",
     "output_type": "stream",
     "text": [
      "\n",
      "Newcastle+upon+Tyne pages run for: 8\n"
     ]
    },
    {
     "data": {
      "application/vnd.jupyter.widget-view+json": {
       "model_id": "b4ae817af79f4b13ace66df470c764fb",
       "version_major": 2,
       "version_minor": 0
      },
      "text/plain": [
       "HBox(children=(FloatProgress(value=0.0, max=8.0), HTML(value='')))"
      ]
     },
     "metadata": {},
     "output_type": "display_data"
    },
    {
     "name": "stdout",
     "output_type": "stream",
     "text": [
      "\n",
      "Sheffield pages run for: 4\n"
     ]
    },
    {
     "data": {
      "application/vnd.jupyter.widget-view+json": {
       "model_id": "d98ad600d95e4ae496abb0347fca0399",
       "version_major": 2,
       "version_minor": 0
      },
      "text/plain": [
       "HBox(children=(FloatProgress(value=0.0, max=4.0), HTML(value='')))"
      ]
     },
     "metadata": {},
     "output_type": "display_data"
    },
    {
     "name": "stdout",
     "output_type": "stream",
     "text": [
      "\n",
      "Nottingham pages run for: 7\n"
     ]
    },
    {
     "data": {
      "application/vnd.jupyter.widget-view+json": {
       "model_id": "a49bb42e35794052b630309caa85edeb",
       "version_major": 2,
       "version_minor": 0
      },
      "text/plain": [
       "HBox(children=(FloatProgress(value=0.0, max=7.0), HTML(value='')))"
      ]
     },
     "metadata": {},
     "output_type": "display_data"
    },
    {
     "name": "stdout",
     "output_type": "stream",
     "text": [
      "\n",
      "Southampton pages run for: 10\n"
     ]
    },
    {
     "data": {
      "application/vnd.jupyter.widget-view+json": {
       "model_id": "545ab5078e874c56a760bee5cae910d4",
       "version_major": 2,
       "version_minor": 0
      },
      "text/plain": [
       "HBox(children=(FloatProgress(value=0.0, max=10.0), HTML(value='')))"
      ]
     },
     "metadata": {},
     "output_type": "display_data"
    },
    {
     "name": "stdout",
     "output_type": "stream",
     "text": [
      "\n",
      "Bristol pages run for: 21\n"
     ]
    },
    {
     "data": {
      "application/vnd.jupyter.widget-view+json": {
       "model_id": "f972d4449306499da482f15fd0dd1771",
       "version_major": 2,
       "version_minor": 0
      },
      "text/plain": [
       "HBox(children=(FloatProgress(value=0.0, max=21.0), HTML(value='')))"
      ]
     },
     "metadata": {},
     "output_type": "display_data"
    },
    {
     "name": "stdout",
     "output_type": "stream",
     "text": [
      "\n",
      "Edinburgh pages run for: 24\n"
     ]
    },
    {
     "data": {
      "application/vnd.jupyter.widget-view+json": {
       "model_id": "c51a40cab2e84ced97b4180a344c3a0c",
       "version_major": 2,
       "version_minor": 0
      },
      "text/plain": [
       "HBox(children=(FloatProgress(value=0.0, max=24.0), HTML(value='')))"
      ]
     },
     "metadata": {},
     "output_type": "display_data"
    },
    {
     "name": "stdout",
     "output_type": "stream",
     "text": [
      "\n",
      "Glasgow pages run for: 17\n"
     ]
    },
    {
     "data": {
      "application/vnd.jupyter.widget-view+json": {
       "model_id": "2c914e4309384d2aa6f83277ad787398",
       "version_major": 2,
       "version_minor": 0
      },
      "text/plain": [
       "HBox(children=(FloatProgress(value=0.0, max=17.0), HTML(value='')))"
      ]
     },
     "metadata": {},
     "output_type": "display_data"
    },
    {
     "name": "stdout",
     "output_type": "stream",
     "text": [
      "\n",
      "Cambridge pages run for: 49\n"
     ]
    },
    {
     "data": {
      "application/vnd.jupyter.widget-view+json": {
       "model_id": "0a3a0e29a9164cd1bc3cb2d0e6e7f06e",
       "version_major": 2,
       "version_minor": 0
      },
      "text/plain": [
       "HBox(children=(FloatProgress(value=0.0, max=49.0), HTML(value='')))"
      ]
     },
     "metadata": {},
     "output_type": "display_data"
    },
    {
     "name": "stdout",
     "output_type": "stream",
     "text": [
      "\n",
      "Oxford pages run for: 20\n"
     ]
    },
    {
     "data": {
      "application/vnd.jupyter.widget-view+json": {
       "model_id": "ce753784f41a405890d2128ec52728fe",
       "version_major": 2,
       "version_minor": 0
      },
      "text/plain": [
       "HBox(children=(FloatProgress(value=0.0, max=20.0), HTML(value='')))"
      ]
     },
     "metadata": {},
     "output_type": "display_data"
    },
    {
     "name": "stdout",
     "output_type": "stream",
     "text": [
      "\n",
      "Slough pages run for: 21\n"
     ]
    },
    {
     "data": {
      "application/vnd.jupyter.widget-view+json": {
       "model_id": "d22b95f5441641f58b24709737405e1e",
       "version_major": 2,
       "version_minor": 0
      },
      "text/plain": [
       "HBox(children=(FloatProgress(value=0.0, max=21.0), HTML(value='')))"
      ]
     },
     "metadata": {},
     "output_type": "display_data"
    },
    {
     "name": "stdout",
     "output_type": "stream",
     "text": [
      "\n",
      "Leicester pages run for: 5\n"
     ]
    },
    {
     "data": {
      "application/vnd.jupyter.widget-view+json": {
       "model_id": "d392ac4ec8f144d3b278ea349fc2bd36",
       "version_major": 2,
       "version_minor": 0
      },
      "text/plain": [
       "HBox(children=(FloatProgress(value=0.0, max=5.0), HTML(value='')))"
      ]
     },
     "metadata": {},
     "output_type": "display_data"
    },
    {
     "name": "stdout",
     "output_type": "stream",
     "text": [
      "\n",
      "Belfast pages run for: 17\n"
     ]
    },
    {
     "data": {
      "application/vnd.jupyter.widget-view+json": {
       "model_id": "3cbcb734b22040f6a4a5f9846153e0e1",
       "version_major": 2,
       "version_minor": 0
      },
      "text/plain": [
       "HBox(children=(FloatProgress(value=0.0, max=17.0), HTML(value='')))"
      ]
     },
     "metadata": {},
     "output_type": "display_data"
    },
    {
     "name": "stdout",
     "output_type": "stream",
     "text": [
      "\n"
     ]
    }
   ],
   "source": [
    "# Creating UK dataframe\n",
    "url_template = 'https://www.indeed.co.uk/jobs?q=%22data+scientist%22+or+%22data+engineer%22+or+%22business+intelligence%22+or+%22data+product+manager%22+or+%22data+analyst%22+or+%22data+science%22+or+%22machine+learning%22+or+%22data+architect%22+or+%22data+visualisation%22&l={}&radius=10'\n",
    "pages_per_city = 'calc'  # Set this to calc in order to calculate the number of pages needed.\n",
    "\n",
    "\n",
    "# code for looping through cities and extracting\n",
    "for i, city in enumerate(['London', 'Birmingham', 'Manchester', 'Leeds', 'Liverpool','Cardiff',\n",
    "                          'Newcastle+upon+Tyne', 'Sheffield', 'Nottingham','Southampton',\n",
    "                          'Bristol','Edinburgh','Glasgow','Cambridge','Oxford','Slough','Leicester','Belfast']):\n",
    "    url_act = url_template.format(city)\n",
    "    if i == 0:\n",
    "        uk_jobz = indeed_scraper(pages_per_city,url_act,city).copy()\n",
    "    else:\n",
    "        temp_df = indeed_scraper(pages_per_city,url_act,city).copy()\n",
    "        uk_jobz = pd.concat([uk_jobz,temp_df]).copy()"
   ]
  },
  {
   "cell_type": "code",
   "execution_count": 83,
   "metadata": {
    "ExecuteTime": {
     "end_time": "2020-01-20T17:37:35.377947Z",
     "start_time": "2020-01-20T17:31:10.469759Z"
    }
   },
   "outputs": [
    {
     "data": {
      "application/vnd.jupyter.widget-view+json": {
       "model_id": "5eb3e5ee4158445d8ad9a64eb1bae7d5",
       "version_major": 2,
       "version_minor": 0
      },
      "text/plain": [
       "HBox(children=(FloatProgress(value=0.0, max=423.0), HTML(value='')))"
      ]
     },
     "metadata": {},
     "output_type": "display_data"
    },
    {
     "name": "stdout",
     "output_type": "stream",
     "text": [
      "\n"
     ]
    }
   ],
   "source": [
    "p_url = 'https://www.indeed.fr/jobs?q=%22data+scientist%22+or+%22data+engineer%22+or+%22business+intelligence%22+or+%22data+product+manager%22+or+%22data+analyst%22+or+%22data+science%22+or+%22machine+learning%22+or+%22data+architect%22+or+%22data+visualisation%22&l=Paris'\n",
    "b_url = 'https://de.indeed.com/jobs?q=%22data+scientist%22+or+%22data+engineer%22+or+%22business+intelligence%22+or+%22data+product+manager%22+or+%22data+analyst%22+or+%22data+science%22+or+%22machine+learning%22+or+%22data+architect%22+or+%22data+visualisation%22&l=Berlin'\n",
    "f_url = 'https://de.indeed.com/Jobs?q=%22data+scientist%22+or+%22data+engineer%22+or+%22business+intelligence%22+or+%22data+product+manager%22+or+%22data+analyst%22+or+%22data+science%22+or+%22machine+learning%22+or+%22data+architect%22+or+%22data+visualisation%22&l=Frankfurt'\n",
    "l_url = 'https://www.indeed.pt/ofertas?q=%22data+scientist%22+or+%22data+engineer%22+or+%22business+intelligence%22+or+%22data+product+manager%22+or+%22data+analyst%22+or+%22data+science%22+or+%22machine+learning%22+or+%22data+architect%22+or+%22data+visualisation%22&l=Lisbon'\n",
    "po_url = 'https://www.indeed.pt/ofertas?q=%22data+scientist%22+or+%22data+engineer%22+or+%22business+intelligence%22+or+%22data+product+manager%22+or+%22data+analyst%22+or+%22data+science%22+or+%22machine+learning%22+or+%22data+architect%22+or+%22data+visualisation%22&l=Porto'\n",
    "a_url = 'https://www.indeed.nl/jobs?q=%22data+scientist%22+or+%22data+engineer%22+or+%22business+intelligence%22+or+%22data+product+manager%22+or+%22data+analyst%22+or+%22data+science%22+or+%22machine+learning%22+or+%22data+architect%22+or+%22data+visualisation%22&l=Amsterdam'\n",
    "m_url = 'https://www.indeed.es/jobs?q=%22data+scientist%22+or+%22data+engineer%22+or+%22business+intelligence%22+or+%22data+product+manager%22+or+%22data+analyst%22+or+%22data+science%22+or+%22machine+learning%22+or+%22data+architect%22+or+%22data+visualisation%22&l=Madrid'\n",
    "ba_url = 'https://www.indeed.es/ofertas?q=%22data+scientist%22+or+%22data+engineer%22+or+%22business+intelligence%22+or+%22data+product+manager%22+or+%22data+analyst%22+or+%22data+science%22+or+%22machine+learning%22+or+%22data+architect%22+or+%22data+visualisation%22&l=Barcelona'\n",
    "d_url = 'https://ie.indeed.com/jobs?q=%22data+scientist%22+or+%22data+engineer%22+or+%22business+intelligence%22+or+%22data+product+manager%22+or+%22data+analyst%22+or+%22data+science%22+or+%22machine+learning%22+or+%22data+architect%22+or+%22data+visualisation%22&l=Dublin'\n",
    "\n",
    "\n",
    "paris_jobz = indeed_scraper(423,p_url,'Paris').copy()"
   ]
  },
  {
   "cell_type": "code",
   "execution_count": 84,
   "metadata": {
    "ExecuteTime": {
     "end_time": "2020-01-20T17:44:25.148794Z",
     "start_time": "2020-01-20T17:37:35.537820Z"
    }
   },
   "outputs": [
    {
     "data": {
      "application/vnd.jupyter.widget-view+json": {
       "model_id": "a304838926b9471ba183e66347e3ee3a",
       "version_major": 2,
       "version_minor": 0
      },
      "text/plain": [
       "HBox(children=(FloatProgress(value=0.0, max=225.0), HTML(value='')))"
      ]
     },
     "metadata": {},
     "output_type": "display_data"
    },
    {
     "name": "stdout",
     "output_type": "stream",
     "text": [
      "\n"
     ]
    },
    {
     "data": {
      "application/vnd.jupyter.widget-view+json": {
       "model_id": "8ff2d95624994e7f8188f89aa3685858",
       "version_major": 2,
       "version_minor": 0
      },
      "text/plain": [
       "HBox(children=(FloatProgress(value=0.0, max=67.0), HTML(value='')))"
      ]
     },
     "metadata": {},
     "output_type": "display_data"
    },
    {
     "name": "stdout",
     "output_type": "stream",
     "text": [
      "\n"
     ]
    },
    {
     "data": {
      "application/vnd.jupyter.widget-view+json": {
       "model_id": "7ff786a7b1dd4579bd038eba068f05fb",
       "version_major": 2,
       "version_minor": 0
      },
      "text/plain": [
       "HBox(children=(FloatProgress(value=0.0, max=60.0), HTML(value='')))"
      ]
     },
     "metadata": {},
     "output_type": "display_data"
    },
    {
     "name": "stdout",
     "output_type": "stream",
     "text": [
      "\n"
     ]
    },
    {
     "data": {
      "application/vnd.jupyter.widget-view+json": {
       "model_id": "901ea939254c47fba2792ff6c398fb94",
       "version_major": 2,
       "version_minor": 0
      },
      "text/plain": [
       "HBox(children=(FloatProgress(value=0.0, max=14.0), HTML(value='')))"
      ]
     },
     "metadata": {},
     "output_type": "display_data"
    },
    {
     "name": "stdout",
     "output_type": "stream",
     "text": [
      "\n"
     ]
    },
    {
     "data": {
      "application/vnd.jupyter.widget-view+json": {
       "model_id": "12c38046340a4b76879e0d621aeae45b",
       "version_major": 2,
       "version_minor": 0
      },
      "text/plain": [
       "HBox(children=(FloatProgress(value=0.0, max=124.0), HTML(value='')))"
      ]
     },
     "metadata": {},
     "output_type": "display_data"
    },
    {
     "name": "stdout",
     "output_type": "stream",
     "text": [
      "\n"
     ]
    },
    {
     "data": {
      "application/vnd.jupyter.widget-view+json": {
       "model_id": "b3910d2f5dd747bcb4435ab48130c318",
       "version_major": 2,
       "version_minor": 0
      },
      "text/plain": [
       "HBox(children=(FloatProgress(value=0.0, max=69.0), HTML(value='')))"
      ]
     },
     "metadata": {},
     "output_type": "display_data"
    },
    {
     "name": "stdout",
     "output_type": "stream",
     "text": [
      "\n"
     ]
    },
    {
     "data": {
      "application/vnd.jupyter.widget-view+json": {
       "model_id": "a0db79efc49a48e1b3e7d65b7fa358d9",
       "version_major": 2,
       "version_minor": 0
      },
      "text/plain": [
       "HBox(children=(FloatProgress(value=0.0, max=66.0), HTML(value='')))"
      ]
     },
     "metadata": {},
     "output_type": "display_data"
    },
    {
     "name": "stdout",
     "output_type": "stream",
     "text": [
      "\n"
     ]
    },
    {
     "data": {
      "application/vnd.jupyter.widget-view+json": {
       "model_id": "32d30dba6b154c93bb3836d994f7fa54",
       "version_major": 2,
       "version_minor": 0
      },
      "text/plain": [
       "HBox(children=(FloatProgress(value=0.0, max=74.0), HTML(value='')))"
      ]
     },
     "metadata": {},
     "output_type": "display_data"
    },
    {
     "name": "stdout",
     "output_type": "stream",
     "text": [
      "\n"
     ]
    }
   ],
   "source": [
    "berlin_jobz = indeed_scraper(225,b_url,'Berlin').copy()\n",
    "frankfurt_jobz = indeed_scraper(67,f_url,'Frankfurt').copy()\n",
    "lisbon_jobz = indeed_scraper(60,l_url,'Lisbon').copy()\n",
    "porto_jobz = indeed_scraper(14,po_url,'Porto').copy()\n",
    "amsterdam_jobz = indeed_scraper(124,a_url,'Amsterdam').copy()\n",
    "madrid_jobz = indeed_scraper(69,m_url,'Madrid').copy()\n",
    "barcelona_jobz = indeed_scraper(66,ba_url,'Barcelona').copy()\n",
    "dublin_jobz = indeed_scraper(74,d_url,'Dublin').copy()"
   ]
  },
  {
   "cell_type": "code",
   "execution_count": 85,
   "metadata": {
    "ExecuteTime": {
     "end_time": "2020-01-20T17:44:25.384712Z",
     "start_time": "2020-01-20T17:44:25.350594Z"
    }
   },
   "outputs": [],
   "source": [
    "europa_jobz = pd.concat([berlin_jobz,frankfurt_jobz,lisbon_jobz,porto_jobz,amsterdam_jobz,paris_jobz,madrid_jobz,barcelona_jobz,dublin_jobz])"
   ]
  },
  {
   "cell_type": "code",
   "execution_count": 89,
   "metadata": {
    "ExecuteTime": {
     "end_time": "2020-01-20T17:47:31.480639Z",
     "start_time": "2020-01-20T17:47:31.256476Z"
    }
   },
   "outputs": [],
   "source": [
    "# europa_jobz.to_csv('./europa_jobz.csv')"
   ]
  },
  {
   "cell_type": "code",
   "execution_count": 190,
   "metadata": {
    "ExecuteTime": {
     "end_time": "2020-01-20T21:15:45.762376Z",
     "start_time": "2020-01-20T21:15:45.753219Z"
    }
   },
   "outputs": [
    {
     "data": {
      "text/html": [
       "\n",
       "                <audio  controls=\"controls\" autoplay=\"autoplay\">\n",
       "                    <source src=\"data:audio/x-aiff;base64,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\" type=\"audio/x-aiff\" />\n",
       "                    Your browser does not support the audio element.\n",
       "                </audio>\n",
       "              "
      ],
      "text/plain": [
       "<IPython.lib.display.Audio object>"
      ]
     },
     "metadata": {},
     "output_type": "display_data"
    }
   ],
   "source": [
    "alldone()"
   ]
  },
  {
   "cell_type": "code",
   "execution_count": 28,
   "metadata": {
    "ExecuteTime": {
     "end_time": "2020-01-20T15:40:47.165980Z",
     "start_time": "2020-01-20T15:40:46.993916Z"
    }
   },
   "outputs": [],
   "source": [
    "# uk_jobz.to_csv('./uk_jobz_5.csv')\n",
    "# uk_jobz.head(30)"
   ]
  },
  {
   "cell_type": "code",
   "execution_count": 92,
   "metadata": {
    "ExecuteTime": {
     "end_time": "2020-01-20T18:25:54.287391Z",
     "start_time": "2020-01-20T18:25:54.181731Z"
    }
   },
   "outputs": [],
   "source": [
    "uk_jobz = pd.read_csv('./uk_jobz_5.csv')\n",
    "europa_jobz = pd.read_csv('./europa_jobz.csv')"
   ]
  },
  {
   "cell_type": "code",
   "execution_count": 93,
   "metadata": {
    "ExecuteTime": {
     "end_time": "2020-01-20T18:25:55.040349Z",
     "start_time": "2020-01-20T18:25:55.030892Z"
    }
   },
   "outputs": [],
   "source": [
    "uk_jobz.drop(\"Unnamed: 0\",axis=1,inplace=True)\n",
    "europa_jobz.drop(\"Unnamed: 0\",axis=1,inplace=True)\n",
    "# uk_jobz.reset_index(drop=True)"
   ]
  },
  {
   "cell_type": "code",
   "execution_count": 31,
   "metadata": {
    "ExecuteTime": {
     "end_time": "2020-01-20T15:40:49.021531Z",
     "start_time": "2020-01-20T15:40:49.018148Z"
    }
   },
   "outputs": [],
   "source": [
    "# uk_jobz"
   ]
  },
  {
   "cell_type": "code",
   "execution_count": 95,
   "metadata": {
    "ExecuteTime": {
     "end_time": "2020-01-20T18:26:14.989819Z",
     "start_time": "2020-01-20T18:26:14.984086Z"
    }
   },
   "outputs": [
    {
     "data": {
      "text/plain": [
       "489"
      ]
     },
     "execution_count": 95,
     "metadata": {},
     "output_type": "execute_result"
    }
   ],
   "source": [
    "len(uk_jobz.salary.unique())\n",
    "# len(europa_jobz.salary.unique())"
   ]
  },
  {
   "cell_type": "code",
   "execution_count": 33,
   "metadata": {
    "ExecuteTime": {
     "end_time": "2020-01-20T15:40:50.637314Z",
     "start_time": "2020-01-20T15:40:50.628748Z"
    }
   },
   "outputs": [],
   "source": [
    "uk_jobz_none = uk_jobz[uk_jobz['salary'].isna()]\n",
    "europa_jobz_none = europa_jobz[europa_jobz['salary'].isna()]"
   ]
  },
  {
   "cell_type": "code",
   "execution_count": 34,
   "metadata": {
    "ExecuteTime": {
     "end_time": "2020-01-20T15:40:51.606670Z",
     "start_time": "2020-01-20T15:40:51.561916Z"
    }
   },
   "outputs": [
    {
     "data": {
      "text/plain": [
       "array([nan], dtype=object)"
      ]
     },
     "execution_count": 34,
     "metadata": {},
     "output_type": "execute_result"
    }
   ],
   "source": [
    "uk_jobz_none.salary.unique()"
   ]
  },
  {
   "cell_type": "code",
   "execution_count": 96,
   "metadata": {
    "ExecuteTime": {
     "end_time": "2020-01-20T18:27:20.861732Z",
     "start_time": "2020-01-20T18:27:20.849362Z"
    }
   },
   "outputs": [],
   "source": [
    "uk_jobz_salary = uk_jobz.dropna(subset=['salary']).copy()\n",
    "europa_jobz_salary = europa_jobz.dropna(subset=['salary']).copy()"
   ]
  },
  {
   "cell_type": "code",
   "execution_count": 36,
   "metadata": {
    "ExecuteTime": {
     "end_time": "2020-01-20T15:40:53.059098Z",
     "start_time": "2020-01-20T15:40:53.056448Z"
    }
   },
   "outputs": [],
   "source": [
    "# uk_jobz[uk_jobz['salary'].str.contains(\"£\")]\n",
    "# uk_jobz_salary.reset_index(drop=True,inplace=True)\n"
   ]
  },
  {
   "cell_type": "code",
   "execution_count": 97,
   "metadata": {
    "ExecuteTime": {
     "end_time": "2020-01-20T18:27:25.779807Z",
     "start_time": "2020-01-20T18:27:25.774875Z"
    }
   },
   "outputs": [
    {
     "data": {
      "text/plain": [
       "488"
      ]
     },
     "execution_count": 97,
     "metadata": {},
     "output_type": "execute_result"
    }
   ],
   "source": [
    "len(uk_jobz_salary['salary'].unique())"
   ]
  },
  {
   "cell_type": "markdown",
   "metadata": {
    "focus": false,
    "id": "20339c09-5032-4e27-91be-286e9b46cd13"
   },
   "source": [
    "#### Use the functions you wrote above to parse out the 4 fields - location, title, company and salary. Create a dataframe from the results with those 4 columns."
   ]
  },
  {
   "cell_type": "markdown",
   "metadata": {
    "focus": false,
    "id": "ff98ce64-78a7-441f-a675-63464e32c834"
   },
   "source": [
    "Lastly, we need to clean up salary data. \n",
    "\n",
    "1. Only a small number of the scraped results have salary information - only these will be used for modeling.\n",
    "1. Some of the salaries are not yearly but hourly or weekly, these will not be useful to us for now.\n",
    "1. Some of the entries may be duplicated.\n",
    "1. The salaries are given as text and usually with ranges."
   ]
  },
  {
   "cell_type": "markdown",
   "metadata": {
    "focus": false,
    "id": "ff98ce64-78a7-441f-a675-63464e32c834"
   },
   "source": [
    "#### Find the entries with annual salary entries, by filtering the entries without salaries or salaries that are not yearly (filter those that refer to hour or week). Also, remove duplicate entries."
   ]
  },
  {
   "cell_type": "code",
   "execution_count": 38,
   "metadata": {
    "ExecuteTime": {
     "end_time": "2020-01-20T15:40:57.064274Z",
     "start_time": "2020-01-20T15:40:57.047280Z"
    }
   },
   "outputs": [
    {
     "data": {
      "text/html": [
       "<div>\n",
       "<style scoped>\n",
       "    .dataframe tbody tr th:only-of-type {\n",
       "        vertical-align: middle;\n",
       "    }\n",
       "\n",
       "    .dataframe tbody tr th {\n",
       "        vertical-align: top;\n",
       "    }\n",
       "\n",
       "    .dataframe thead th {\n",
       "        text-align: right;\n",
       "    }\n",
       "</style>\n",
       "<table border=\"1\" class=\"dataframe\">\n",
       "  <thead>\n",
       "    <tr style=\"text-align: right;\">\n",
       "      <th></th>\n",
       "      <th>job_title</th>\n",
       "      <th>company</th>\n",
       "      <th>rating</th>\n",
       "      <th>salary</th>\n",
       "      <th>description</th>\n",
       "      <th>date</th>\n",
       "      <th>category</th>\n",
       "    </tr>\n",
       "  </thead>\n",
       "  <tbody>\n",
       "    <tr>\n",
       "      <th>5</th>\n",
       "      <td>Data Scientist - Machine Learning</td>\n",
       "      <td>Metrica Recruitment</td>\n",
       "      <td>NaN</td>\n",
       "      <td>£50,000 - £55,000 a year</td>\n",
       "      <td>As a Data Scientist you will be using advance...</td>\n",
       "      <td>30+ days ago</td>\n",
       "      <td>London</td>\n",
       "    </tr>\n",
       "    <tr>\n",
       "      <th>11</th>\n",
       "      <td>Junior Data Scientist (Python, Machine Learning)</td>\n",
       "      <td>Understanding Recruitment</td>\n",
       "      <td>NaN</td>\n",
       "      <td>£500 - £600 a day</td>\n",
       "      <td>Junior Data Scientist (Python, Machine Learni...</td>\n",
       "      <td>Just posted</td>\n",
       "      <td>London</td>\n",
       "    </tr>\n",
       "    <tr>\n",
       "      <th>14</th>\n",
       "      <td>Business Intelligence Analyst</td>\n",
       "      <td>Southern Housing</td>\n",
       "      <td>4.0</td>\n",
       "      <td>£35,000 - £40,000 a year</td>\n",
       "      <td>The Business Intelligence Analyst role:Work w...</td>\n",
       "      <td>30+ days ago</td>\n",
       "      <td>London</td>\n",
       "    </tr>\n",
       "    <tr>\n",
       "      <th>23</th>\n",
       "      <td>Machine Learning Engineer (Researcher)</td>\n",
       "      <td>ThirdEye Labs</td>\n",
       "      <td>NaN</td>\n",
       "      <td>£45,000 - £60,000 a year</td>\n",
       "      <td>Strong understanding of deep learning and wor...</td>\n",
       "      <td>30+ days ago</td>\n",
       "      <td>London</td>\n",
       "    </tr>\n",
       "    <tr>\n",
       "      <th>27</th>\n",
       "      <td>Machine Learning Engineer</td>\n",
       "      <td>Migacore Technologies</td>\n",
       "      <td>NaN</td>\n",
       "      <td>£35,000 - £60,000 a year</td>\n",
       "      <td>Skills: Python, Machine Learning, D3.js, Kera...</td>\n",
       "      <td>Today</td>\n",
       "      <td>London</td>\n",
       "    </tr>\n",
       "    <tr>\n",
       "      <th>...</th>\n",
       "      <td>...</td>\n",
       "      <td>...</td>\n",
       "      <td>...</td>\n",
       "      <td>...</td>\n",
       "      <td>...</td>\n",
       "      <td>...</td>\n",
       "      <td>...</td>\n",
       "    </tr>\n",
       "    <tr>\n",
       "      <th>16598</th>\n",
       "      <td>Senior Python Developer</td>\n",
       "      <td>VANRATH</td>\n",
       "      <td>NaN</td>\n",
       "      <td>£55,000 - £65,000 a year</td>\n",
       "      <td>This technology will be used within the high ...</td>\n",
       "      <td>11 days ago</td>\n",
       "      <td>Belfast</td>\n",
       "    </tr>\n",
       "    <tr>\n",
       "      <th>16600</th>\n",
       "      <td>Java Developer – IOT Make A Difference</td>\n",
       "      <td>VANRATH</td>\n",
       "      <td>NaN</td>\n",
       "      <td>£40,000 - £50,000 a year</td>\n",
       "      <td>What can you bring to the business ?My client...</td>\n",
       "      <td>13 days ago</td>\n",
       "      <td>Belfast</td>\n",
       "    </tr>\n",
       "    <tr>\n",
       "      <th>16601</th>\n",
       "      <td>French Speaking Sales Account Executive</td>\n",
       "      <td>Brook Street</td>\n",
       "      <td>3.1</td>\n",
       "      <td>£21,300 a year</td>\n",
       "      <td>The Role: * Generate sales leads for our clie...</td>\n",
       "      <td>14 days ago</td>\n",
       "      <td>Belfast</td>\n",
       "    </tr>\n",
       "    <tr>\n",
       "      <th>16602</th>\n",
       "      <td>German-Speaking Sales Account Executive</td>\n",
       "      <td>Brook Street</td>\n",
       "      <td>3.1</td>\n",
       "      <td>£21,200 a year</td>\n",
       "      <td>The Role: * Generate sales leads for our clie...</td>\n",
       "      <td>14 days ago</td>\n",
       "      <td>Belfast</td>\n",
       "    </tr>\n",
       "    <tr>\n",
       "      <th>16603</th>\n",
       "      <td>Swedish Speaking Sales Account Executive</td>\n",
       "      <td>Brook Street</td>\n",
       "      <td>3.1</td>\n",
       "      <td>£21,300 a year</td>\n",
       "      <td>The Role: * Generate sales leads for our clie...</td>\n",
       "      <td>14 days ago</td>\n",
       "      <td>Belfast</td>\n",
       "    </tr>\n",
       "  </tbody>\n",
       "</table>\n",
       "<p>4057 rows × 7 columns</p>\n",
       "</div>"
      ],
      "text/plain": [
       "                                              job_title  \\\n",
       "5                     Data Scientist - Machine Learning   \n",
       "11     Junior Data Scientist (Python, Machine Learning)   \n",
       "14                        Business Intelligence Analyst   \n",
       "23               Machine Learning Engineer (Researcher)   \n",
       "27                            Machine Learning Engineer   \n",
       "...                                                 ...   \n",
       "16598                           Senior Python Developer   \n",
       "16600            Java Developer – IOT Make A Difference   \n",
       "16601           French Speaking Sales Account Executive   \n",
       "16602           German-Speaking Sales Account Executive   \n",
       "16603          Swedish Speaking Sales Account Executive   \n",
       "\n",
       "                         company  rating                    salary  \\\n",
       "5            Metrica Recruitment     NaN  £50,000 - £55,000 a year   \n",
       "11     Understanding Recruitment     NaN         £500 - £600 a day   \n",
       "14              Southern Housing     4.0  £35,000 - £40,000 a year   \n",
       "23                 ThirdEye Labs     NaN  £45,000 - £60,000 a year   \n",
       "27         Migacore Technologies     NaN  £35,000 - £60,000 a year   \n",
       "...                          ...     ...                       ...   \n",
       "16598                    VANRATH     NaN  £55,000 - £65,000 a year   \n",
       "16600                    VANRATH     NaN  £40,000 - £50,000 a year   \n",
       "16601               Brook Street     3.1            £21,300 a year   \n",
       "16602               Brook Street     3.1            £21,200 a year   \n",
       "16603               Brook Street     3.1            £21,300 a year   \n",
       "\n",
       "                                             description          date  \\\n",
       "5       As a Data Scientist you will be using advance...  30+ days ago   \n",
       "11      Junior Data Scientist (Python, Machine Learni...   Just posted   \n",
       "14      The Business Intelligence Analyst role:Work w...  30+ days ago   \n",
       "23      Strong understanding of deep learning and wor...  30+ days ago   \n",
       "27      Skills: Python, Machine Learning, D3.js, Kera...         Today   \n",
       "...                                                  ...           ...   \n",
       "16598   This technology will be used within the high ...   11 days ago   \n",
       "16600   What can you bring to the business ?My client...   13 days ago   \n",
       "16601   The Role: * Generate sales leads for our clie...   14 days ago   \n",
       "16602   The Role: * Generate sales leads for our clie...   14 days ago   \n",
       "16603   The Role: * Generate sales leads for our clie...   14 days ago   \n",
       "\n",
       "      category  \n",
       "5       London  \n",
       "11      London  \n",
       "14      London  \n",
       "23      London  \n",
       "27      London  \n",
       "...        ...  \n",
       "16598  Belfast  \n",
       "16600  Belfast  \n",
       "16601  Belfast  \n",
       "16602  Belfast  \n",
       "16603  Belfast  \n",
       "\n",
       "[4057 rows x 7 columns]"
      ]
     },
     "execution_count": 38,
     "metadata": {},
     "output_type": "execute_result"
    }
   ],
   "source": [
    "uk_jobz_salary"
   ]
  },
  {
   "cell_type": "code",
   "execution_count": 98,
   "metadata": {
    "ExecuteTime": {
     "end_time": "2020-01-20T18:27:57.311052Z",
     "start_time": "2020-01-20T18:27:57.293522Z"
    }
   },
   "outputs": [],
   "source": [
    "uk_jobz_salary.drop_duplicates(inplace=True)\n",
    "europa_jobz_salary.drop_duplicates(inplace=True)"
   ]
  },
  {
   "cell_type": "code",
   "execution_count": 112,
   "metadata": {
    "ExecuteTime": {
     "end_time": "2020-01-20T18:40:53.828409Z",
     "start_time": "2020-01-20T18:40:53.815231Z"
    }
   },
   "outputs": [],
   "source": [
    "\n",
    "uk_jobz_salary = uk_jobz_salary[~uk_jobz_salary['salary'].str.contains(\"hour\")]\n",
    "uk_jobz_salary = uk_jobz_salary[~uk_jobz_salary['salary'].str.contains(\"week\")]\n",
    "uk_jobz_salary = uk_jobz_salary[~uk_jobz_salary['salary'].str.contains(\"day\")]\n",
    "uk_jobz_salary = uk_jobz_salary[~uk_jobz_salary['salary'].str.contains(\"month\")]\n"
   ]
  },
  {
   "cell_type": "code",
   "execution_count": 104,
   "metadata": {
    "ExecuteTime": {
     "end_time": "2020-01-20T18:34:42.277887Z",
     "start_time": "2020-01-20T18:34:42.270574Z"
    }
   },
   "outputs": [
    {
     "data": {
      "text/plain": [
       "array(['50.000 € - 75.000 € pro Jahr', '65.000 € - 100.000 € pro Jahr',\n",
       "       '85.000 € - 95.000 € pro Jahr', '80.000 € pro Jahr',\n",
       "       '35.000 € - 40.000 € pro Jahr', '80.000 € - 90.000 € pro Jahr',\n",
       "       '40.000 € - 50.000 € pro Jahr', '50.000 € - 80.000 € pro Jahr',\n",
       "       '65.000 € - 75.000 € pro Jahr', '51.000 € - 54.000 € pro Jahr',\n",
       "       '60.000 € - 90.000 € pro Jahr', '75.000 € - 95.000 € pro Jahr',\n",
       "       '12.000 € - 50.000 € pro Jahr', '60.000 € - 70.000 € pro Jahr',\n",
       "       '85.000 € - 100.000 € pro Jahr', '55.000 € pro Jahr',\n",
       "       '100.000 € - 120.000 € pro Jahr', '65.000 € pro Jahr',\n",
       "       '50.000 € pro Jahr', '55.000 € - 65.000 € pro Jahr',\n",
       "       '53.300 € pro Jahr', '70.000 € - 80.000 € pro Jahr',\n",
       "       '70.000 € pro Jahr', '96.000 € pro Jahr', '145.589 € pro Jahr',\n",
       "       '85.000 € pro Jahr', '60.000 € pro Jahr',\n",
       "       '25\\xa0000€ - 30\\xa0000€ por ano', '€100.000 - €140.000 per jaar',\n",
       "       '€55.000 - €72.000 per jaar', '€60.000 - €90.000 per jaar',\n",
       "       '€60.000 per jaar', '€60.867 - €71.934 per jaar',\n",
       "       '€70.000 - €90.000 per jaar', '€36.000 - €46.000 per jaar',\n",
       "       '€70.000 - €100.000 per jaar', '€65.000 - €90.000 per jaar',\n",
       "       '€160.000 per jaar', '€71.000 per jaar', '€62.000 per jaar',\n",
       "       '€50.000 - €85.000 per jaar', '€50.000 - €70.000 per jaar',\n",
       "       '€110.667 - €111.774 per jaar', '€30.000 - €50.000 per jaar',\n",
       "       '€70.000 per jaar', '€70.000 - €85.000 per jaar',\n",
       "       '€40.000 - €50.000 per jaar', '€50.000 per jaar',\n",
       "       '€90.000 per jaar', '€60.000 - €80.000 per jaar',\n",
       "       '€90.000 - €100.000 per jaar', '€25.000 - €30.000 per jaar',\n",
       "       '€30.000 - €35.000 per jaar', '€78.000 per jaar',\n",
       "       '€87.900 - €109.800 per jaar', '€60.000 - €70.000 per jaar',\n",
       "       '45\\xa0000 € - 50\\xa0000 € par an', '43\\xa0000 € par an',\n",
       "       '40\\xa0000 € - 50\\xa0000 € par an',\n",
       "       '45\\xa0000 € - 55\\xa0000 € par an', '42\\xa0000 € par an',\n",
       "       '40\\xa0000 € - 80\\xa0000 € par an',\n",
       "       '50\\xa0000 € - 70\\xa0000 € par an',\n",
       "       '37\\xa0000 € - 40\\xa0000 € par an',\n",
       "       '45\\xa0000 € - 63\\xa0000 € par an',\n",
       "       '45\\xa0000 € - 65\\xa0000 € par an',\n",
       "       '40\\xa0000 € - 90\\xa0000 € par an',\n",
       "       '80\\xa0000 € - 110\\xa0000 € par an',\n",
       "       '40\\xa0000 € - 60\\xa0000 € par an', '50\\xa0000 € par an',\n",
       "       '55\\xa0000 € - 70\\xa0000 € par an',\n",
       "       '50\\xa0000 € - 80\\xa0000 € par an',\n",
       "       '35\\xa0000 € - 90\\xa0000 € par an',\n",
       "       '50\\xa0000 € - 55\\xa0000 € par an', '70\\xa0000 € par an',\n",
       "       '36\\xa0000 € - 55\\xa0000 € par an',\n",
       "       '35\\xa0000 € - 45\\xa0000 € par an',\n",
       "       '35\\xa0000 € - 50\\xa0000 € par an',\n",
       "       '30\\xa0000 € - 32\\xa0000 € par an',\n",
       "       '30\\xa0000 € - 35\\xa0000 € par an', '45\\xa0000 € par an',\n",
       "       '38\\xa0000 € - 43\\xa0000 € par an',\n",
       "       '58\\xa0000 € - 74\\xa0000 € par an',\n",
       "       '60\\xa0000 € - 88\\xa0000 € par an',\n",
       "       '50\\xa0000 € - 65\\xa0000 € par an',\n",
       "       '45\\xa0000 € - 70\\xa0000 € par an',\n",
       "       '60\\xa0000 € - 70\\xa0000 € par an',\n",
       "       '40\\xa0000 € - 45\\xa0000 € par an',\n",
       "       '40\\xa0000 € - 70\\xa0000 € par an',\n",
       "       '26\\xa0000 € - 36\\xa0000 € par an',\n",
       "       '70\\xa0000 € - 90\\xa0000 € par an',\n",
       "       '42\\xa0000 € - 45\\xa0000 € par an',\n",
       "       '120\\xa0000 € - 140\\xa0000 € par an',\n",
       "       '70\\xa0000 € - 75\\xa0000 € par an',\n",
       "       '44\\xa0000 € - 57\\xa0000 € par an',\n",
       "       '70\\xa0000 € - 80\\xa0000 € par an',\n",
       "       '40\\xa0000 € - 55\\xa0000 € par an',\n",
       "       '42\\xa0000 € - 50\\xa0000 € par an',\n",
       "       '42\\xa0000 € - 48\\xa0000 € par an',\n",
       "       '30\\xa0000 € - 45\\xa0000 € par an',\n",
       "       '65\\xa0000 € - 75\\xa0000 € par an',\n",
       "       '58\\xa0000 € - 70\\xa0000 € par an', '60\\xa0000 € par an',\n",
       "       '38\\xa0000 € - 60\\xa0000 € par an', '35.000€ - 50.000€ al año',\n",
       "       '33.000€ al año', '24.000€ - 30.000€ al año', '19.200€ al año',\n",
       "       '26.400€ al año', '20.000€ al año', '24.000€ - 27.000€ al año',\n",
       "       '12.000€ al año', '39.000€ al año', '18.000€ - 20.000€ al año',\n",
       "       '60.000€ - 90.000€ al año', '25.000€ - 40.000€ al año',\n",
       "       '30.000€ - 45.000€ al año', '17.123€ al año', '18.391€ al año',\n",
       "       '25.000€ al año', '50.000€ - 90.000€ al año',\n",
       "       '33.000€ - 44.000€ al año', '42.000€ al año',\n",
       "       '55.000€ - 60.000€ al año', '20.000€ - 24.000€ al año',\n",
       "       '35.000€ al año', '21.000€ - 24.000€ al año',\n",
       "       '28.000€ - 30.000€ al año', '45.000€ al año', '18.000€ al año',\n",
       "       '48.000€ - 72.000€ al año', '35.000€ - 45.000€ al año',\n",
       "       '40.000€ al año', '16.000€ - 21.000€ al año',\n",
       "       '33.000€ - 36.000€ al año', '30.000€ - 40.000€ al año',\n",
       "       '39.000€ - 42.000€ al año', '30.000€ - 36.000€ al año',\n",
       "       '39.000€ - 44.000€ al año', '37.000€ al año',\n",
       "       '54.000€ - 60.000€ al año', '28.000€ - 38.000€ al año',\n",
       "       '20.000€ - 28.000€ al año', '21.000€ - 30.000€ al año',\n",
       "       '40.009€ al año', '27.000€ - 30.000€ al año',\n",
       "       '40.000€ - 50.000€ al año', '30.000€ - 39.000€ al año',\n",
       "       '27.000€ - 33.000€ al año', '67.009€ al año', '60.009€ al año',\n",
       "       '26.000€ - 35.000€ al año', '50.009€ al año',\n",
       "       '36.000€ - 50.000€ al año', '€67,000 - €85,000 a year',\n",
       "       '€68,310 a year', '€50,000 - €80,000 a year',\n",
       "       '€68,310 - €68,311 a year', '€37,874 - €47,673 a year',\n",
       "       '€40,000 - €60,000 a year', '€28,008 - €32,698 a year',\n",
       "       '€49,800 - €77,467 a year', '€70,000 - €90,000 a year',\n",
       "       '€90,000 - €120,000 a year', '€120,000 - €130,000 a year',\n",
       "       '€130,000 - €140,000 a year', '€50,000 - €70,000 a year',\n",
       "       '€120,000 a year', '€60,000 - €80,000 a year', '€60,000 a year',\n",
       "       '€20,000 a year', '€60,000 - €70,000 a year',\n",
       "       '€100,000 - €110,000 a year', '€50,000 - €60,000 a year',\n",
       "       '€32,000 a year', '€30,000 - €40,000 a year', '€30,000 a year',\n",
       "       '€34,000 - €36,000 a year', '€70,000 a year',\n",
       "       '€70,000 - €80,000 a year', '€80,000 - €90,000 a year',\n",
       "       '€80,000 - €120,000 a year', '€40,000 - €55,000 a year',\n",
       "       '€25,000 a year', '€65,000 a year', '€34,000 - €38,000 a year',\n",
       "       '€37,874 - €49,049 a year', '€28,000 a year',\n",
       "       '€28,000 - €32,000 a year', '€80,000 - €100,000 a year',\n",
       "       '€50,000 - €65,000 a year', '€49,000 a year',\n",
       "       '€100,000 - €120,000 a year', '€71,000 a year', '€40,000 a year',\n",
       "       '€45,000 a year', '€40,000 - €50,000 a year', '€43,046 a year',\n",
       "       '€43,000 a year', '€80,000 a year', '€30,000 - €33,000 a year',\n",
       "       '€55,000 a year', '€37,874 - €45,540 a year',\n",
       "       '€25,000 - €30,000 a year', '€75,000 - €100,000 a year',\n",
       "       '€75,000 a year', '€62,000 a year', '€45,000 - €50,000 a year',\n",
       "       '€35,000 - €45,000 a year', '€45,000 - €58,000 a year',\n",
       "       '€70,000 - €85,000 a year', '€85,000 - €95,000 a year',\n",
       "       '€30,000 - €38,000 a year', '€60,000 - €75,000 a year',\n",
       "       '€30,000 - €35,000 a year', '€47,589 a year',\n",
       "       '€75,000 - €95,000 a year', '€90,000 a year'], dtype=object)"
      ]
     },
     "execution_count": 104,
     "metadata": {},
     "output_type": "execute_result"
    }
   ],
   "source": [
    "europa_jobz_salary.salary.unique()\n"
   ]
  },
  {
   "cell_type": "code",
   "execution_count": 103,
   "metadata": {
    "ExecuteTime": {
     "end_time": "2020-01-20T18:34:38.904751Z",
     "start_time": "2020-01-20T18:34:38.885189Z"
    }
   },
   "outputs": [],
   "source": [
    "europa_jobz_salary = europa_jobz_salary[~europa_jobz_salary['salary'].str.contains(\"Monat\")]\n",
    "europa_jobz_salary = europa_jobz_salary[~europa_jobz_salary['salary'].str.contains(\"Tag\")]\n",
    "europa_jobz_salary = europa_jobz_salary[~europa_jobz_salary['salary'].str.contains(\"maand\")]\n",
    "europa_jobz_salary = europa_jobz_salary[~europa_jobz_salary['salary'].str.contains(\"week\")]\n",
    "europa_jobz_salary = europa_jobz_salary[~europa_jobz_salary['salary'].str.contains(\"uur\")]\n",
    "europa_jobz_salary = europa_jobz_salary[~europa_jobz_salary['salary'].str.contains(\"dag\")]\n",
    "europa_jobz_salary = europa_jobz_salary[~europa_jobz_salary['salary'].str.contains(\"mois\")]\n",
    "europa_jobz_salary = europa_jobz_salary[~europa_jobz_salary['salary'].str.contains(\"semaine\")]\n",
    "europa_jobz_salary = europa_jobz_salary[~europa_jobz_salary['salary'].str.contains(\"jour\")]\n",
    "europa_jobz_salary = europa_jobz_salary[~europa_jobz_salary['salary'].str.contains(\"mes\")]\n",
    "europa_jobz_salary = europa_jobz_salary[~europa_jobz_salary['salary'].str.contains(\"day\")]\n",
    "europa_jobz_salary = europa_jobz_salary[~europa_jobz_salary['salary'].str.contains(\"Stunde\")]"
   ]
  },
  {
   "cell_type": "markdown",
   "metadata": {
    "focus": false,
    "id": "7d4bc860-b214-4f75-9cd0-b234830b1ec2"
   },
   "source": [
    "#### Write a function that takes a salary string and converts it to a number, averaging a salary range if necessary."
   ]
  },
  {
   "cell_type": "code",
   "execution_count": 120,
   "metadata": {
    "ExecuteTime": {
     "end_time": "2020-01-20T18:45:43.830619Z",
     "start_time": "2020-01-20T18:45:43.825299Z"
    }
   },
   "outputs": [],
   "source": [
    "def salary_converter_EU(string):\n",
    "    string = re.sub(r\"[^-0-9]\", \"\" , string)\n",
    "    try:\n",
    "        string = string.to_numeric()*0.85\n",
    "    except:\n",
    "        string = np.mean([int(x) for x in string.split('-')])*0.85\n",
    "    return string\n"
   ]
  },
  {
   "cell_type": "code",
   "execution_count": 113,
   "metadata": {
    "ExecuteTime": {
     "end_time": "2020-01-20T18:40:57.813895Z",
     "start_time": "2020-01-20T18:40:57.809014Z"
    }
   },
   "outputs": [],
   "source": [
    "def salary_converter(string):\n",
    "    string = re.sub(r\"[ £,ayear]\", \"\" , string)\n",
    "    try:\n",
    "        string = string.to_numeric()\n",
    "    except:\n",
    "        string = np.mean([int(x) for x in string.split('-')])\n",
    "    return string"
   ]
  },
  {
   "cell_type": "code",
   "execution_count": 114,
   "metadata": {
    "ExecuteTime": {
     "end_time": "2020-01-20T18:40:58.262856Z",
     "start_time": "2020-01-20T18:40:58.232642Z"
    },
    "focus": false,
    "id": "a0f701e0-80bd-40ba-9101-4535860c0968"
   },
   "outputs": [],
   "source": [
    "uk_jobz_salary.salary = uk_jobz_salary.salary.apply(lambda x: salary_converter(x))"
   ]
  },
  {
   "cell_type": "code",
   "execution_count": 121,
   "metadata": {
    "ExecuteTime": {
     "end_time": "2020-01-20T18:45:47.565534Z",
     "start_time": "2020-01-20T18:45:47.555063Z"
    }
   },
   "outputs": [],
   "source": [
    "europa_jobz_salary.salary = europa_jobz_salary.salary.apply(lambda x: salary_converter_EU(x))"
   ]
  },
  {
   "cell_type": "code",
   "execution_count": 122,
   "metadata": {
    "ExecuteTime": {
     "end_time": "2020-01-20T18:46:07.522914Z",
     "start_time": "2020-01-20T18:46:07.506912Z"
    }
   },
   "outputs": [
    {
     "data": {
      "text/html": [
       "<div>\n",
       "<style scoped>\n",
       "    .dataframe tbody tr th:only-of-type {\n",
       "        vertical-align: middle;\n",
       "    }\n",
       "\n",
       "    .dataframe tbody tr th {\n",
       "        vertical-align: top;\n",
       "    }\n",
       "\n",
       "    .dataframe thead th {\n",
       "        text-align: right;\n",
       "    }\n",
       "</style>\n",
       "<table border=\"1\" class=\"dataframe\">\n",
       "  <thead>\n",
       "    <tr style=\"text-align: right;\">\n",
       "      <th></th>\n",
       "      <th>job_title</th>\n",
       "      <th>company</th>\n",
       "      <th>rating</th>\n",
       "      <th>salary</th>\n",
       "      <th>description</th>\n",
       "      <th>date</th>\n",
       "      <th>category</th>\n",
       "    </tr>\n",
       "  </thead>\n",
       "  <tbody>\n",
       "    <tr>\n",
       "      <th>2</th>\n",
       "      <td>Machine Learning Engineer - Video/Image/Text a...</td>\n",
       "      <td>Theta Lake</td>\n",
       "      <td>NaN</td>\n",
       "      <td>53125.0</td>\n",
       "      <td>Demonstrable experience delivering and deploy...</td>\n",
       "      <td>Vor mehr als 30 Tagen</td>\n",
       "      <td>Berlin</td>\n",
       "    </tr>\n",
       "    <tr>\n",
       "      <th>77</th>\n",
       "      <td>Service Delivery Manager – SAP AM Business Int...</td>\n",
       "      <td>Sell-Consulting</td>\n",
       "      <td>NaN</td>\n",
       "      <td>70125.0</td>\n",
       "      <td>Unser Kunde ist ein führendes Technologieunte...</td>\n",
       "      <td>vor 3 Tagen</td>\n",
       "      <td>Berlin</td>\n",
       "    </tr>\n",
       "    <tr>\n",
       "      <th>198</th>\n",
       "      <td>Big Data Engineer</td>\n",
       "      <td>Flint Data</td>\n",
       "      <td>NaN</td>\n",
       "      <td>76500.0</td>\n",
       "      <td>\"Real Time\" beginnt hier im Backend und unter...</td>\n",
       "      <td>Vor mehr als 30 Tagen</td>\n",
       "      <td>Berlin</td>\n",
       "    </tr>\n",
       "    <tr>\n",
       "      <th>342</th>\n",
       "      <td>Fraud Manager - Payments</td>\n",
       "      <td>Payments and Cards Network</td>\n",
       "      <td>NaN</td>\n",
       "      <td>68000.0</td>\n",
       "      <td>Previous experience in programming or data sc...</td>\n",
       "      <td>Vor mehr als 30 Tagen</td>\n",
       "      <td>Berlin</td>\n",
       "    </tr>\n",
       "    <tr>\n",
       "      <th>563</th>\n",
       "      <td>QA/Support Engineer (d/m/f)</td>\n",
       "      <td>Bayes Esports Solutions GmbH</td>\n",
       "      <td>NaN</td>\n",
       "      <td>31875.0</td>\n",
       "      <td>With our cutting-edge technology-driven produ...</td>\n",
       "      <td>vor 11 Tagen</td>\n",
       "      <td>Berlin</td>\n",
       "    </tr>\n",
       "    <tr>\n",
       "      <th>...</th>\n",
       "      <td>...</td>\n",
       "      <td>...</td>\n",
       "      <td>...</td>\n",
       "      <td>...</td>\n",
       "      <td>...</td>\n",
       "      <td>...</td>\n",
       "      <td>...</td>\n",
       "    </tr>\n",
       "    <tr>\n",
       "      <th>19435</th>\n",
       "      <td>Senior Software Engineer (Cloud)</td>\n",
       "      <td>Reperio Human Capital</td>\n",
       "      <td>NaN</td>\n",
       "      <td>72250.0</td>\n",
       "      <td>This is an opportunity to join a company doin...</td>\n",
       "      <td>30+ days ago</td>\n",
       "      <td>Dublin</td>\n",
       "    </tr>\n",
       "    <tr>\n",
       "      <th>19455</th>\n",
       "      <td>Senior Frontend Developer</td>\n",
       "      <td>GemPool</td>\n",
       "      <td>5.0</td>\n",
       "      <td>76500.0</td>\n",
       "      <td>GemPool's client have an innovative cloud bus...</td>\n",
       "      <td>18 days ago</td>\n",
       "      <td>Dublin</td>\n",
       "    </tr>\n",
       "    <tr>\n",
       "      <th>19456</th>\n",
       "      <td>Senior React Developer</td>\n",
       "      <td>Trust In Soda</td>\n",
       "      <td>NaN</td>\n",
       "      <td>68000.0</td>\n",
       "      <td>AI and machine learning experience a bonus.Do...</td>\n",
       "      <td>30+ days ago</td>\n",
       "      <td>Dublin</td>\n",
       "    </tr>\n",
       "    <tr>\n",
       "      <th>19458</th>\n",
       "      <td>Java Software Developer (Cloud/AI)</td>\n",
       "      <td>Reperio Human Capital</td>\n",
       "      <td>NaN</td>\n",
       "      <td>46750.0</td>\n",
       "      <td>Their product uses artificial intelligence so...</td>\n",
       "      <td>30+ days ago</td>\n",
       "      <td>Dublin</td>\n",
       "    </tr>\n",
       "    <tr>\n",
       "      <th>19467</th>\n",
       "      <td>Senior .NET User Interface Developer</td>\n",
       "      <td>Next Generation Recruitment</td>\n",
       "      <td>3.3</td>\n",
       "      <td>59500.0</td>\n",
       "      <td>Please note that all applications are treated...</td>\n",
       "      <td>30+ days ago</td>\n",
       "      <td>Dublin</td>\n",
       "    </tr>\n",
       "  </tbody>\n",
       "</table>\n",
       "<p>314 rows × 7 columns</p>\n",
       "</div>"
      ],
      "text/plain": [
       "                                               job_title  \\\n",
       "2      Machine Learning Engineer - Video/Image/Text a...   \n",
       "77     Service Delivery Manager – SAP AM Business Int...   \n",
       "198                                    Big Data Engineer   \n",
       "342                             Fraud Manager - Payments   \n",
       "563                          QA/Support Engineer (d/m/f)   \n",
       "...                                                  ...   \n",
       "19435                   Senior Software Engineer (Cloud)   \n",
       "19455                          Senior Frontend Developer   \n",
       "19456                             Senior React Developer   \n",
       "19458                 Java Software Developer (Cloud/AI)   \n",
       "19467               Senior .NET User Interface Developer   \n",
       "\n",
       "                            company rating   salary  \\\n",
       "2                        Theta Lake    NaN  53125.0   \n",
       "77                  Sell-Consulting    NaN  70125.0   \n",
       "198                      Flint Data    NaN  76500.0   \n",
       "342      Payments and Cards Network    NaN  68000.0   \n",
       "563    Bayes Esports Solutions GmbH    NaN  31875.0   \n",
       "...                             ...    ...      ...   \n",
       "19435         Reperio Human Capital    NaN  72250.0   \n",
       "19455                       GemPool    5.0  76500.0   \n",
       "19456                 Trust In Soda    NaN  68000.0   \n",
       "19458         Reperio Human Capital    NaN  46750.0   \n",
       "19467   Next Generation Recruitment    3.3  59500.0   \n",
       "\n",
       "                                             description  \\\n",
       "2       Demonstrable experience delivering and deploy...   \n",
       "77      Unser Kunde ist ein führendes Technologieunte...   \n",
       "198     \"Real Time\" beginnt hier im Backend und unter...   \n",
       "342     Previous experience in programming or data sc...   \n",
       "563     With our cutting-edge technology-driven produ...   \n",
       "...                                                  ...   \n",
       "19435   This is an opportunity to join a company doin...   \n",
       "19455   GemPool's client have an innovative cloud bus...   \n",
       "19456   AI and machine learning experience a bonus.Do...   \n",
       "19458   Their product uses artificial intelligence so...   \n",
       "19467   Please note that all applications are treated...   \n",
       "\n",
       "                        date category  \n",
       "2      Vor mehr als 30 Tagen   Berlin  \n",
       "77               vor 3 Tagen   Berlin  \n",
       "198    Vor mehr als 30 Tagen   Berlin  \n",
       "342    Vor mehr als 30 Tagen   Berlin  \n",
       "563             vor 11 Tagen   Berlin  \n",
       "...                      ...      ...  \n",
       "19435           30+ days ago   Dublin  \n",
       "19455            18 days ago   Dublin  \n",
       "19456           30+ days ago   Dublin  \n",
       "19458           30+ days ago   Dublin  \n",
       "19467           30+ days ago   Dublin  \n",
       "\n",
       "[314 rows x 7 columns]"
      ]
     },
     "execution_count": 122,
     "metadata": {},
     "output_type": "execute_result"
    }
   ],
   "source": [
    "europa_jobz_salary"
   ]
  },
  {
   "cell_type": "code",
   "execution_count": 43,
   "metadata": {
    "ExecuteTime": {
     "end_time": "2020-01-20T15:41:13.345298Z",
     "start_time": "2020-01-20T15:41:13.341617Z"
    },
    "focus": false,
    "id": "783fd153-28ac-47ab-bfca-27e7c1de95b4"
   },
   "outputs": [],
   "source": [
    "# uk_jobz_salary[uk_jobz_salary['salary']<20000]"
   ]
  },
  {
   "cell_type": "code",
   "execution_count": 44,
   "metadata": {
    "ExecuteTime": {
     "end_time": "2020-01-20T15:41:15.695363Z",
     "start_time": "2020-01-20T15:41:15.685511Z"
    }
   },
   "outputs": [
    {
     "data": {
      "text/plain": [
       "count       231.000000\n",
       "mean      56307.266234\n",
       "std       24825.300174\n",
       "min       11000.000000\n",
       "25%       37500.000000\n",
       "50%       50000.000000\n",
       "75%       71250.000000\n",
       "max      152500.000000\n",
       "Name: salary, dtype: float64"
      ]
     },
     "execution_count": 44,
     "metadata": {},
     "output_type": "execute_result"
    }
   ],
   "source": [
    "uk_jobz_salary['salary'][uk_jobz_salary['category']=='London'].describe()\n"
   ]
  },
  {
   "cell_type": "code",
   "execution_count": 124,
   "metadata": {
    "ExecuteTime": {
     "end_time": "2020-01-20T18:47:08.404118Z",
     "start_time": "2020-01-20T18:47:08.396841Z"
    }
   },
   "outputs": [
    {
     "data": {
      "text/plain": [
       "Dublin       97\n",
       "Paris        75\n",
       "Madrid       39\n",
       "Amsterdam    35\n",
       "Barcelona    27\n",
       "Frankfurt    22\n",
       "Berlin       18\n",
       "Lisbon        1\n",
       "Name: category, dtype: int64"
      ]
     },
     "execution_count": 124,
     "metadata": {},
     "output_type": "execute_result"
    }
   ],
   "source": [
    "europa_jobz_salary.category.value_counts()"
   ]
  },
  {
   "cell_type": "code",
   "execution_count": 45,
   "metadata": {
    "ExecuteTime": {
     "end_time": "2020-01-20T15:41:21.616312Z",
     "start_time": "2020-01-20T15:41:21.607613Z"
    }
   },
   "outputs": [
    {
     "data": {
      "text/plain": [
       "London                 231\n",
       "Manchester             145\n",
       "Oxford                  96\n",
       "Birmingham              92\n",
       "Cambridge               87\n",
       "Leeds                   76\n",
       "Bristol                 75\n",
       "Southampton             60\n",
       "Edinburgh               47\n",
       "Liverpool               36\n",
       "Slough                  36\n",
       "Newcastle+upon+Tyne     35\n",
       "Nottingham              34\n",
       "Cardiff                 27\n",
       "Leicester               25\n",
       "Belfast                 24\n",
       "Glasgow                 23\n",
       "Sheffield               19\n",
       "Name: category, dtype: int64"
      ]
     },
     "execution_count": 45,
     "metadata": {},
     "output_type": "execute_result"
    }
   ],
   "source": [
    "uk_jobz_salary.category.value_counts()"
   ]
  },
  {
   "cell_type": "markdown",
   "metadata": {
    "focus": false,
    "id": "43e71edd-210e-42b1-9336-70a931f048af"
   },
   "source": [
    "### Save your results as a CSV"
   ]
  },
  {
   "cell_type": "code",
   "execution_count": 46,
   "metadata": {
    "ExecuteTime": {
     "end_time": "2020-01-20T15:41:33.235431Z",
     "start_time": "2020-01-20T15:41:33.218794Z"
    }
   },
   "outputs": [],
   "source": [
    "uk_jobz_salary.to_csv('./uk_jobz_salary5.csv', index=False)"
   ]
  },
  {
   "cell_type": "code",
   "execution_count": 125,
   "metadata": {
    "ExecuteTime": {
     "end_time": "2020-01-20T18:48:14.745841Z",
     "start_time": "2020-01-20T18:48:14.737150Z"
    }
   },
   "outputs": [],
   "source": [
    "europa_jobz_salary.to_csv('./europa_jobz_salary.csv', index=False)"
   ]
  },
  {
   "cell_type": "markdown",
   "metadata": {},
   "source": [
    "### Looking for more data to scrape - Glassdoor ###"
   ]
  },
  {
   "cell_type": "code",
   "execution_count": 51,
   "metadata": {
    "ExecuteTime": {
     "end_time": "2020-01-27T16:04:50.096047Z",
     "start_time": "2020-01-27T16:04:50.084074Z"
    }
   },
   "outputs": [],
   "source": [
    "\n",
    "def glassdoor_scraper(pages=10,url_set=None,category='All'):\n",
    "    \n",
    "    jobtitle = []\n",
    "    company = []\n",
    "    rating = []\n",
    "    salary = []\n",
    "    description = []\n",
    "    date = []\n",
    "    \n",
    "    if url_set == None:\n",
    "        print(\"Need url to run\")\n",
    "        return\n",
    "\n",
    "    for x in tqdm_notebook(range(1, pages)):\n",
    "        url_format = url_set.format(x)\n",
    "        print(url_format)\n",
    "        r = requests.get(url_format)\n",
    "        soup = BeautifulSoup(r.text, 'html.parser')\n",
    "        print(soup)\n",
    "        \n",
    "        for job in soup.find_all('div', attrs={'class':re.compile(r'^row*align-items-center')}):\n",
    "            print(job)\n",
    "            try:\n",
    "                jobtitle.append(job.find('div ', attrs={'class':'salaryRow__SalaryRowStyle__row'}).text)\n",
    "                \n",
    "            except:\n",
    "                jobtitle.append(np.nan)\n",
    "\n",
    "#             try:\n",
    "#                 company.append(job.find('span', attrs={'class':'company'}).text.replace('\\n',''))\n",
    "#             except:\n",
    "#                 company.append(np.nan)\n",
    "\n",
    "#             try:\n",
    "#                 rating.append(job.find('span', attrs={'class':'ratingsContent'}).text.replace('\\n',''))\n",
    "#             except:\n",
    "#                 rating.append(np.nan)\n",
    "\n",
    "#             try:\n",
    "#                 salary.append(job.find('span', attrs={'class':'salary no-wrap'}).text.replace('\\n',''))\n",
    "#             except:\n",
    "#                 salary.append(np.nan)\n",
    "\n",
    "#             try:\n",
    "#                 description.append(job.find('div', attrs={'class':'summary'}).text.replace('\\n',''))\n",
    "#             except:\n",
    "#                 description.append(np.nan)\n",
    "\n",
    "#             try:\n",
    "#                 date.append(job.find('span', attrs={'class':'date'}).text.replace('\\n',''))\n",
    "#             except:\n",
    "#                 date.append(np.nan)\n",
    "\n",
    "\n",
    "    glass_df = pd.DataFrame({'job_title': jobtitle,\n",
    "#                          'company': company,\n",
    "#                         'rating': rating,\n",
    "#                          'salary': salary,\n",
    "#                         'description': description,\n",
    "#                         'date': date,\n",
    "#                         'category': category\n",
    "                            })\n",
    "    return glass_df\n",
    "\n"
   ]
  },
  {
   "cell_type": "code",
   "execution_count": 52,
   "metadata": {
    "ExecuteTime": {
     "end_time": "2020-01-27T16:04:51.456886Z",
     "start_time": "2020-01-27T16:04:51.452411Z"
    }
   },
   "outputs": [],
   "source": [
    "url = 'https://www.glassdoor.co.uk/Salaries/london-data-scientist-salary-SRCH_IL.0,6_IM1035_KO7,21.htm'\n",
    "urlpg2 = 'https://www.glassdoor.co.uk/Salaries/london-data-scientist-salary-SRCH_IL.0,6_IM1035_KO7,21_IP{}.htm'"
   ]
  },
  {
   "cell_type": "code",
   "execution_count": 53,
   "metadata": {
    "ExecuteTime": {
     "end_time": "2020-01-27T16:05:02.095225Z",
     "start_time": "2020-01-27T16:04:51.709383Z"
    }
   },
   "outputs": [
    {
     "data": {
      "application/vnd.jupyter.widget-view+json": {
       "model_id": "edc2b5f1cdae4cbdabcce8d35f4e2e27",
       "version_major": 2,
       "version_minor": 0
      },
      "text/plain": [
       "HBox(children=(FloatProgress(value=0.0, max=2.0), HTML(value='')))"
      ]
     },
     "metadata": {},
     "output_type": "display_data"
    },
    {
     "name": "stdout",
     "output_type": "stream",
     "text": [
      "https://www.glassdoor.co.uk/Salaries/london-data-scientist-salary-SRCH_IL.0,6_IM1035_KO7,21_IP1.htm\n",
      "<!DOCTYPE html>\n",
      "\n",
      "<html>\n",
      "<head>\n",
      "<title>Security | Glassdoor</title>\n",
      "<meta content=\"text/html;charset=utf-8\" http-equiv=\"content-type\"/>\n",
      "<style type=\"text/css\">body,html{background:#eaeaea;font-family:Helvetica Neue,HelveticaNeue,Helvetica,Arial,sans-serif;font-size:16px;margin:0;padding:0}.header{background:#0caa41;width:100%}.header .center{height:45px}.header .center:before{content:\"\";display:inline-block;height:100%;margin-right:-.25em;vertical-align:middle}@media only screen and (max-width:767px){.header .center{text-align:center}}.logo{display:inline-block;vertical-align:middle}.center{box-sizing:border-box;margin:0 auto;width:996px}@media only screen and (max-width:1023px){.center{margin:0;padding:0 14px;width:100%}}@media only screen and (max-width:767px){.center{padding:0}}.article{background:#fff;border:1px solid #dcdcdc;border-radius:2px;box-shadow:0 1px 1px -1px hsla(0,0%,60%,.6);box-sizing:border-box;margin:14px 0 0;max-width:690px;padding:0 14px}@media only screen and (max-width:767px){.article{max-width:none}}h1,h2{font-size:18px;font-weight:400}h1,h2,p{margin:14px 0}p{color:#666}</style>\n",
      "</head>\n",
      "<body>\n",
      "<div class=\"header\">\n",
      "<div class=\"center\">\n",
      "<img class=\"logo\" height=\"26\" src=\"data:image/png;base64,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\" width=\"122\"/>\n",
      "</div>\n",
      "</div>\n",
      "<div class=\"center\">\n",
      "<div class=\"article lang en-us\">\n",
      "<h1>Help Us Keep Glassdoor Safe</h1>\n",
      "<p>\n",
      "\t\tSorry, we had some trouble processing your request. Most of the time,\n",
      "\t\tthis problem can be fixed by reloading the page. Click <a class=\"reload\" href=\"\">here</a>\n",
      "\t\tto reload. If this problem persists, it may be because there's an issue\n",
      "\t\twith our site right now.\n",
      "\t</p>\n",
      "</div>\n",
      "<div class=\"article lang fr-fr\">\n",
      "<h2>Nous aider à garder Glassdoor sécurisée</h2>\n",
      "<p>\n",
      "\t\tExcusez-nous, nous avons eu du mal à prendre votre requête en compte.\n",
      "\t\tLa plupart du temps, ce problème peut être résolu en rafraichissant la\n",
      "\t\tpage. <a class=\"reload\" href=\"\">Cliquez ici</a> pour rafraichir. Si ce problème persiste, il se peut\n",
      "\t\tque nous ayons des problèmes techniques sur notre site actuellement.\n",
      "\t</p>\n",
      "</div>\n",
      "<div class=\"article lang de-de\">\n",
      "<h2>Unterstützen Sie uns beim Schutz von Glassdoor</h2>\n",
      "<p>\n",
      "\t\tWir hatten leider Probleme mit der Verarbeitung Ihrer Anfrage. Zumeist\n",
      "\t\tkann das Problem behoben werden, indem die Seite neu geladen wird. Klicken\n",
      "\t\tSie <a class=\"reload\" href=\"\">hier</a> zum erneuten Laden. Besteht das\n",
      "\t\tProblem weiterhin, könnte dies an gegnwärtigen Problemen mit unserer Website liegen.\n",
      "\t</p>\n",
      "</div>\n",
      "<div class=\"article lang nl-nl\">\n",
      "<h1>Help ons Glassdoor veilig te houden</h1>\n",
      "<p>\n",
      "\t\tOnze excuses, er heeft zich een probleem voorgedaan bij het uitvoeren uw verzoek.\n",
      "\t\tMeestal kan dit probleem verholpen worden door de pagina te vernieuwen.\n",
      "\t\tKlik <a class=\"reload\" href=\"\">hier</a> om te vernieuwen. Als het probleem zich blijft voordoen,\n",
      "\t\tis het mogelijk dat er momenteel iets mis is met onze site.\n",
      "\t</p>\n",
      "</div>\n",
      "<script>!function(){for(var n=function(){window.location.reload(!0)},o=document.getElementsByClassName(\"reload\"),e=0,l=o.length;e<l;e++)o[e].onclick=n}();</script>\n",
      "<div class=\"article lang en-us\">\n",
      "<p>\n",
      "<div class=\"cf-error-details cf-error-504\">\n",
      "<h1>Gateway time-out</h1>\n",
      "<p>The web server reported a gateway time-out error.</p>\n",
      "<ul class=\"cferror_details\">\n",
      "<li>Ray ID: 55bbf7432a1ef427</li>\n",
      "<li>Your IP address: 80.169.95.162</li>\n",
      "<li>Error reference number: 504</li>\n",
      "<li>Cloudflare Location: London</li>\n",
      "</ul>\n",
      "</div>\n",
      "</p>\n",
      "</div>\n",
      "</div>\n",
      "<script>!function(){for(var s,e,d=(s=window.location.hostname,(e=s).endsWith(\"glassdoor.fr\")?\"fr-fr\":e.endsWith(\"glassdoor.de\")?\"de-de\":e.endsWith(\"glassdoor.nl\")?\"nl-nl\":e.endsWith(\"nl.glassdoor.be\")?\"nl-nl\":e.endsWith(\"fr.glassdoor.be\")?\"fr-fr\":e.endsWith(\"fr.glassdoor.ch\")?\"fr-fr\":e.endsWith(\"de.glassdoor.ch\")?\"de-de\":e.endsWith(\"glassdoor.at\")?\"de-de\":e.endsWith(\"fr.glassdoor.ca\")?\"fr-fr\":\"en-us\"),n=document.getElementsByClassName(\"lang\"),o=0,l=n.length;o<l;o++)-1==n[o].className.indexOf(d)&&(n[o].style.display=\"none\")}();</script>\n",
      "<script>!function(e,a,t,n,g,c,o){e.GoogleAnalyticsObject=g,e.ga=e.ga||function(){(e.ga.q=e.ga.q||[]).push(arguments)},e.ga.l=1*new Date,c=a.createElement(t),o=a.getElementsByTagName(t)[0],c.async=1,c.src=\"//www.google-analytics.com/analytics.js\",o.parentNode.insertBefore(c,o)}(window,document,\"script\",0,\"ga\"),ga(\"create\",\"UA-2595786-6\",\"auto\"),ga(\"send\",\"pageview\");</script>\n",
      "</body>\n",
      "</html>\n",
      "https://www.glassdoor.co.uk/Salaries/london-data-scientist-salary-SRCH_IL.0,6_IM1035_KO7,21_IP2.htm\n",
      "<!DOCTYPE html>\n",
      "<html><head><title>Apache Tomcat - Error report</title><style type=\"text/css\">H1 {font-family:Tahoma,Arial,sans-serif;color:white;background-color:#525D76;font-size:22px;} H2 {font-family:Tahoma,Arial,sans-serif;color:white;background-color:#525D76;font-size:16px;} H3 {font-family:Tahoma,Arial,sans-serif;color:white;background-color:#525D76;font-size:14px;} BODY {font-family:Tahoma,Arial,sans-serif;color:black;background-color:white;} B {font-family:Tahoma,Arial,sans-serif;color:white;background-color:#525D76;} P {font-family:Tahoma,Arial,sans-serif;background:white;color:black;font-size:12px;}A {color : black;}A.name {color : black;}.line {height: 1px; background-color: #525D76; border: none;}</style>\n",
      "<!-- START: NODE PROXY INSERTS -->\n",
      "<link href=\"/salaries/static/gd-salary-srch.bundle.css?v=c418ae041e14cc160dd4\" media=\"all\" rel=\"stylesheet\"/>\n",
      "<script defer=\"\" src=\"https://cdnjs.cloudflare.com/ajax/libs/react/16.8.6/umd/react.production.min.js\" type=\"text/javascript\"></script>\n",
      "<script defer=\"\" src=\"https://cdnjs.cloudflare.com/ajax/libs/react-dom/16.8.6/umd/react-dom.production.min.js\" type=\"text/javascript\"></script>\n",
      "<script defer=\"\" src=\"https://cdnjs.cloudflare.com/ajax/libs/prop-types/15.7.2/prop-types.min.js\" type=\"text/javascript\"></script>\n",
      "<script defer=\"\" src=\"/salaries/static/js/gd-vendor.bundle.js?v=c418ae041e14cc160dd4\" type=\"text/javascript\"></script>\n",
      "<script defer=\"\" src=\"/salaries/static/js/gd-salary-srch.bundle.js?v=c418ae041e14cc160dd4\" type=\"text/javascript\"></script>\n",
      "<!-- END: NODE PROXY INSERTS -->\n",
      "</head><body><h1>HTTP Status 403 - Bots not allowed</h1><div class=\"line\"></div><p><b>type</b> Status report</p><p><b>message</b> <u>Bots not allowed</u></p><p><b>description</b> <u>Access to the specified resource has been forbidden.</u></p><hr class=\"line\"/><h3>Apache Tomcat</h3></body></html>\n",
      "\n"
     ]
    },
    {
     "data": {
      "text/html": [
       "<div>\n",
       "<style scoped>\n",
       "    .dataframe tbody tr th:only-of-type {\n",
       "        vertical-align: middle;\n",
       "    }\n",
       "\n",
       "    .dataframe tbody tr th {\n",
       "        vertical-align: top;\n",
       "    }\n",
       "\n",
       "    .dataframe thead th {\n",
       "        text-align: right;\n",
       "    }\n",
       "</style>\n",
       "<table border=\"1\" class=\"dataframe\">\n",
       "  <thead>\n",
       "    <tr style=\"text-align: right;\">\n",
       "      <th></th>\n",
       "      <th>job_title</th>\n",
       "    </tr>\n",
       "  </thead>\n",
       "  <tbody>\n",
       "  </tbody>\n",
       "</table>\n",
       "</div>"
      ],
      "text/plain": [
       "Empty DataFrame\n",
       "Columns: [job_title]\n",
       "Index: []"
      ]
     },
     "execution_count": 53,
     "metadata": {},
     "output_type": "execute_result"
    }
   ],
   "source": [
    "glassdoor_scraper(3,'https://www.glassdoor.co.uk/Salaries/london-data-scientist-salary-SRCH_IL.0,6_IM1035_KO7,21_IP{}.htm')"
   ]
  },
  {
   "cell_type": "code",
   "execution_count": null,
   "metadata": {},
   "outputs": [],
   "source": [
    "<div class=\"row align-items-center m-0 salaryRow__SalaryRowStyle__row\"><div class=\"col-md-6 px-0 py-sm py-md-std\"><div class=\"row pl-xsm\"><div class=\"true col-2 p-0\"><a href=\"/Salary/Moneysupermarket-Group-Salaries-E33122.htm\"><span class=\"common__SqLogoStyle__sqLogo common__SqLogoStyle__sm tighten\"><img alt=\"Moneysupermarket Group\" class=\"lazy lazy-loaded sm\" src=\"https://media.glassdoor.com/sql/33122/moneysupermarket-group-squarelogo-1576243612730.png\"></span></a></div><div class=\"salaryRow__JobInfoStyle__employerInfo col-10 pl\"><div class=\"salaryRow__JobInfoStyle__jobTitle strong\"><a href=\"/Salary/Moneysupermarket-Group-Data-Scientist-London-Salaries-EJI_IE33122.0,22_KO23,37_IL.38,44_IM1035.htm\">Data Scientist</a></div><div class=\"salaryRow__JobInfoStyle__employerName\">Moneysupermarket Group</div><div class=\"salaryRow__JobInfoStyle__meanBasePay common__formFactorHelpers__showHH\"><span class=\"strong\">£41,076</span>/yr</div><div class=\"salaryRow__JobInfoStyle__range common__formFactorHelpers__showHH\">Range: £35K - £43K</div><div class=\"salaryRow__JobInfoStyle__jobCount minor\">3&nbsp;salaries</div><div class=\"salaryRow__JobInfoStyle__totalSalaries\"><a class=\"minor\" href=\"/Salary/Moneysupermarket-Group-Data-Scientist-Salaries-E33122_D_KO23,37.htm\">See 3 salaries from all locations</a></div></div></div></div><div class=\"col-2 d-none d-md-block px-0 py salaryRow__SalaryRowStyle__amt\"><span class=\"strong\">£41,076</span>/yr</div><div class=\"col-1 d-none d-md-block px-0 py\"></div><div class=\"col-3 d-none d-md-block px-0 py\"><div class=\"common__RangeBarStyle__rangeBar undefined undefined \"><div class=\"\"><div class=\"common__RangeBarStyle__meanIndicator\" style=\"left: 120px;\"></div><div class=\"common__RangeBarStyle__bar\"></div></div><div class=\"common__RangeBarStyle__values common__flex__justifySpaceBetween common__flex__container \"><span>£35K</span><span>£43K</span></div></div></div></div>"
   ]
  },
  {
   "cell_type": "code",
   "execution_count": null,
   "metadata": {},
   "outputs": [],
   "source": []
  },
  {
   "cell_type": "code",
   "execution_count": null,
   "metadata": {},
   "outputs": [],
   "source": []
  },
  {
   "cell_type": "code",
   "execution_count": 59,
   "metadata": {
    "ExecuteTime": {
     "end_time": "2020-01-27T16:32:32.847596Z",
     "start_time": "2020-01-27T16:32:32.842832Z"
    }
   },
   "outputs": [],
   "source": [
    "from selenium import webdriver\n",
    "from time import time, sleep"
   ]
  },
  {
   "cell_type": "code",
   "execution_count": 77,
   "metadata": {
    "ExecuteTime": {
     "end_time": "2020-01-27T17:07:48.383355Z",
     "start_time": "2020-01-27T17:06:21.660870Z"
    }
   },
   "outputs": [
    {
     "data": {
      "application/vnd.jupyter.widget-view+json": {
       "model_id": "8ef59c1548c04993b5fbcc4b4c8611d8",
       "version_major": 2,
       "version_minor": 0
      },
      "text/plain": [
       "HBox(children=(FloatProgress(value=0.0, max=9.0), HTML(value='')))"
      ]
     },
     "metadata": {},
     "output_type": "display_data"
    },
    {
     "name": "stdout",
     "output_type": "stream",
     "text": [
      "\n"
     ]
    }
   ],
   "source": [
    "driver = webdriver.Chrome(executable_path='./chromedriver')\n",
    "driver.get('https://www.glassdoor.co.uk/Salaries/london-data-scientist-salary-SRCH_IL.0,6_IM1035_KO7,21.htm')\n",
    "\n",
    "firm_names = []\n",
    "job_titles = []\n",
    "salaries = []\n",
    "rating = []\n",
    "\n",
    "for x in tqdm_notebook(range(1, 10)):\n",
    "    start = time()\n",
    "    while time()-start<5:\n",
    "    #     driver.execute_script(\"window.scrollTo(0, document.body.scrollHeight);\")\n",
    "        item_tags = driver.find_elements_by_class_name('salaryRow__SalaryRowStyle__row')\n",
    "\n",
    "    for item in item_tags:\n",
    "        try:\n",
    "            firm_names.append(item.find_element_by_class_name('salaryRow__JobInfoStyle__employerName').text)\n",
    "        except:\n",
    "            pass\n",
    "\n",
    "        try:\n",
    "            job_titles.append(item.find_element_by_class_name('salaryRow__JobInfoStyle__jobTitle').text)\n",
    "        except:\n",
    "            pass\n",
    "\n",
    "        try:\n",
    "            salaries.append(item.find_element_by_class_name('salaryRow__SalaryRowStyle__amt').text)\n",
    "        except:\n",
    "            pass\n",
    "\n",
    "        try:\n",
    "            rating.append(item.find_element_by_class_name('salaryRow__JobInfoStyle__jobCount').text)\n",
    "        except:\n",
    "            pass\n",
    "\n",
    "    button = driver.find_element_by_class_name('evidon-banner')\n",
    "    button.click()\n",
    "    \n",
    "items = pd.DataFrame({ 'job_title': job_titles,\n",
    "                        'firm': firm_names,\n",
    "                      'avg_salary': salaries,\n",
    "                     \"salary_count\": rating\n",
    "                        })"
   ]
  },
  {
   "cell_type": "code",
   "execution_count": null,
   "metadata": {
    "ExecuteTime": {
     "end_time": "2020-01-27T16:52:08.928693Z",
     "start_time": "2020-01-27T16:52:08.922822Z"
    }
   },
   "outputs": [],
   "source": []
  },
  {
   "cell_type": "code",
   "execution_count": 79,
   "metadata": {
    "ExecuteTime": {
     "end_time": "2020-01-27T17:08:08.930213Z",
     "start_time": "2020-01-27T17:08:08.920151Z"
    }
   },
   "outputs": [
    {
     "data": {
      "text/html": [
       "<div>\n",
       "<style scoped>\n",
       "    .dataframe tbody tr th:only-of-type {\n",
       "        vertical-align: middle;\n",
       "    }\n",
       "\n",
       "    .dataframe tbody tr th {\n",
       "        vertical-align: top;\n",
       "    }\n",
       "\n",
       "    .dataframe thead th {\n",
       "        text-align: right;\n",
       "    }\n",
       "</style>\n",
       "<table border=\"1\" class=\"dataframe\">\n",
       "  <thead>\n",
       "    <tr style=\"text-align: right;\">\n",
       "      <th></th>\n",
       "      <th>job_title</th>\n",
       "      <th>firm</th>\n",
       "      <th>avg_salary</th>\n",
       "      <th>salary_count</th>\n",
       "    </tr>\n",
       "  </thead>\n",
       "  <tbody>\n",
       "    <tr>\n",
       "      <th>0</th>\n",
       "      <td>Data Scientist</td>\n",
       "      <td>Barclays</td>\n",
       "      <td>£53,091/yr</td>\n",
       "      <td>8 salaries</td>\n",
       "    </tr>\n",
       "    <tr>\n",
       "      <th>1</th>\n",
       "      <td>Data Scientist</td>\n",
       "      <td>Capgemini</td>\n",
       "      <td>£56,327/yr</td>\n",
       "      <td>6 salaries</td>\n",
       "    </tr>\n",
       "    <tr>\n",
       "      <th>2</th>\n",
       "      <td>Data Scientist</td>\n",
       "      <td>dunnhumby</td>\n",
       "      <td>£50,516/yr</td>\n",
       "      <td>6 salaries</td>\n",
       "    </tr>\n",
       "    <tr>\n",
       "      <th>3</th>\n",
       "      <td>Data Scientist</td>\n",
       "      <td>Tesco</td>\n",
       "      <td>£50,000/yr</td>\n",
       "      <td>5 salaries</td>\n",
       "    </tr>\n",
       "    <tr>\n",
       "      <th>4</th>\n",
       "      <td>Data Scientist</td>\n",
       "      <td>J Sainsbury</td>\n",
       "      <td>£42,812/yr</td>\n",
       "      <td>5 salaries</td>\n",
       "    </tr>\n",
       "    <tr>\n",
       "      <th>5</th>\n",
       "      <td>Data Scientist</td>\n",
       "      <td>Lloyds Banking Group</td>\n",
       "      <td>£45,935/yr</td>\n",
       "      <td>5 salaries</td>\n",
       "    </tr>\n",
       "    <tr>\n",
       "      <th>6</th>\n",
       "      <td>Data Scientist</td>\n",
       "      <td>Capita</td>\n",
       "      <td>£42,608/yr</td>\n",
       "      <td>4 salaries</td>\n",
       "    </tr>\n",
       "    <tr>\n",
       "      <th>7</th>\n",
       "      <td>Data Scientist</td>\n",
       "      <td>Deliveroo</td>\n",
       "      <td>£72,567/yr</td>\n",
       "      <td>4 salaries</td>\n",
       "    </tr>\n",
       "    <tr>\n",
       "      <th>8</th>\n",
       "      <td>Data Scientist</td>\n",
       "      <td>Facebook</td>\n",
       "      <td>£95,048/yr</td>\n",
       "      <td>4 salaries</td>\n",
       "    </tr>\n",
       "    <tr>\n",
       "      <th>9</th>\n",
       "      <td>Data Scientist</td>\n",
       "      <td>iwoca</td>\n",
       "      <td>£53,951/yr</td>\n",
       "      <td>4 salaries</td>\n",
       "    </tr>\n",
       "    <tr>\n",
       "      <th>10</th>\n",
       "      <td>Data Scientist</td>\n",
       "      <td>QuantumBlack</td>\n",
       "      <td>£56,714/yr</td>\n",
       "      <td>4 salaries</td>\n",
       "    </tr>\n",
       "    <tr>\n",
       "      <th>11</th>\n",
       "      <td>Data Scientist</td>\n",
       "      <td>IBM</td>\n",
       "      <td>£51,822/yr</td>\n",
       "      <td>3 salaries</td>\n",
       "    </tr>\n",
       "    <tr>\n",
       "      <th>12</th>\n",
       "      <td>Data Scientist</td>\n",
       "      <td>Sky</td>\n",
       "      <td>£52,500/yr</td>\n",
       "      <td>3 salaries</td>\n",
       "    </tr>\n",
       "    <tr>\n",
       "      <th>13</th>\n",
       "      <td>Data Scientist</td>\n",
       "      <td>Vodafone</td>\n",
       "      <td>£58,270/yr</td>\n",
       "      <td>3 salaries</td>\n",
       "    </tr>\n",
       "    <tr>\n",
       "      <th>14</th>\n",
       "      <td>Data Scientist</td>\n",
       "      <td>Unilever</td>\n",
       "      <td>£39,689/yr</td>\n",
       "      <td>3 salaries</td>\n",
       "    </tr>\n",
       "    <tr>\n",
       "      <th>15</th>\n",
       "      <td>Data Scientist</td>\n",
       "      <td>Google</td>\n",
       "      <td>£73,111/yr</td>\n",
       "      <td>3 salaries</td>\n",
       "    </tr>\n",
       "    <tr>\n",
       "      <th>16</th>\n",
       "      <td>Data Scientist</td>\n",
       "      <td>First Derivatives</td>\n",
       "      <td>£19,845/yr</td>\n",
       "      <td>3 salaries</td>\n",
       "    </tr>\n",
       "    <tr>\n",
       "      <th>17</th>\n",
       "      <td>Data Scientist</td>\n",
       "      <td>IG</td>\n",
       "      <td>£44,914/yr</td>\n",
       "      <td>3 salaries</td>\n",
       "    </tr>\n",
       "    <tr>\n",
       "      <th>18</th>\n",
       "      <td>Data Scientist</td>\n",
       "      <td>PlayStation</td>\n",
       "      <td>£51,772/yr</td>\n",
       "      <td>3 salaries</td>\n",
       "    </tr>\n",
       "    <tr>\n",
       "      <th>19</th>\n",
       "      <td>Data Scientist</td>\n",
       "      <td>Elsevier</td>\n",
       "      <td>£73,656/yr</td>\n",
       "      <td>3 salaries</td>\n",
       "    </tr>\n",
       "  </tbody>\n",
       "</table>\n",
       "</div>"
      ],
      "text/plain": [
       "         job_title                  firm  avg_salary salary_count\n",
       "0   Data Scientist              Barclays  £53,091/yr   8 salaries\n",
       "1   Data Scientist             Capgemini  £56,327/yr   6 salaries\n",
       "2   Data Scientist             dunnhumby  £50,516/yr   6 salaries\n",
       "3   Data Scientist                 Tesco  £50,000/yr   5 salaries\n",
       "4   Data Scientist           J Sainsbury  £42,812/yr   5 salaries\n",
       "5   Data Scientist  Lloyds Banking Group  £45,935/yr   5 salaries\n",
       "6   Data Scientist                Capita  £42,608/yr   4 salaries\n",
       "7   Data Scientist             Deliveroo  £72,567/yr   4 salaries\n",
       "8   Data Scientist              Facebook  £95,048/yr   4 salaries\n",
       "9   Data Scientist                 iwoca  £53,951/yr   4 salaries\n",
       "10  Data Scientist          QuantumBlack  £56,714/yr   4 salaries\n",
       "11  Data Scientist                   IBM  £51,822/yr   3 salaries\n",
       "12  Data Scientist                   Sky  £52,500/yr   3 salaries\n",
       "13  Data Scientist              Vodafone  £58,270/yr   3 salaries\n",
       "14  Data Scientist              Unilever  £39,689/yr   3 salaries\n",
       "15  Data Scientist                Google  £73,111/yr   3 salaries\n",
       "16  Data Scientist     First Derivatives  £19,845/yr   3 salaries\n",
       "17  Data Scientist                    IG  £44,914/yr   3 salaries\n",
       "18  Data Scientist           PlayStation  £51,772/yr   3 salaries\n",
       "19  Data Scientist              Elsevier  £73,656/yr   3 salaries"
      ]
     },
     "execution_count": 79,
     "metadata": {},
     "output_type": "execute_result"
    }
   ],
   "source": [
    "items\n"
   ]
  },
  {
   "cell_type": "code",
   "execution_count": null,
   "metadata": {},
   "outputs": [],
   "source": [
    "<a class=\"pagination__ArrowStyle__nextArrow  \" href=\"/Salaries/london-data-scientist-salary-SRCH_IL.0,6_IM1035_KO7,21_IP3.htm\"><span>KEY NOT FOUND: pagination.next</span></a>"
   ]
  },
  {
   "cell_type": "code",
   "execution_count": null,
   "metadata": {},
   "outputs": [],
   "source": []
  },
  {
   "cell_type": "markdown",
   "metadata": {},
   "source": [
    "### See the second workbook for modeling! ###"
   ]
  }
 ],
 "metadata": {
  "kernelspec": {
   "display_name": "Python 3",
   "language": "python",
   "name": "python3"
  },
  "language_info": {
   "codemirror_mode": {
    "name": "ipython",
    "version": 3
   },
   "file_extension": ".py",
   "mimetype": "text/x-python",
   "name": "python",
   "nbconvert_exporter": "python",
   "pygments_lexer": "ipython3",
   "version": "3.7.1"
  },
  "toc": {
   "base_numbering": 1,
   "nav_menu": {},
   "number_sections": false,
   "sideBar": true,
   "skip_h1_title": true,
   "title_cell": "Table of Contents",
   "title_sidebar": "Contents",
   "toc_cell": false,
   "toc_position": {},
   "toc_section_display": "block",
   "toc_window_display": false
  },
  "varInspector": {
   "cols": {
    "lenName": 16,
    "lenType": 16,
    "lenVar": 40
   },
   "kernels_config": {
    "python": {
     "delete_cmd_postfix": "",
     "delete_cmd_prefix": "del ",
     "library": "var_list.py",
     "varRefreshCmd": "print(var_dic_list())"
    },
    "r": {
     "delete_cmd_postfix": ") ",
     "delete_cmd_prefix": "rm(",
     "library": "var_list.r",
     "varRefreshCmd": "cat(var_dic_list()) "
    }
   },
   "position": {
    "height": "514px",
    "left": "749px",
    "right": "20px",
    "top": "92px",
    "width": "544px"
   },
   "types_to_exclude": [
    "module",
    "function",
    "builtin_function_or_method",
    "instance",
    "_Feature"
   ],
   "window_display": false
  }
 },
 "nbformat": 4,
 "nbformat_minor": 1
}
